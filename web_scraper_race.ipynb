{
 "cells": [
  {
   "cell_type": "markdown",
   "metadata": {},
   "source": [
    "# Web Scrapper Race"
   ]
  },
  {
   "cell_type": "code",
   "execution_count": null,
   "metadata": {},
   "outputs": [],
   "source": []
  },
  {
   "cell_type": "code",
   "execution_count": null,
   "metadata": {},
   "outputs": [],
   "source": []
  },
  {
   "cell_type": "markdown",
   "metadata": {},
   "source": [
    "## global imports"
   ]
  },
  {
   "cell_type": "code",
   "execution_count": 1,
   "metadata": {},
   "outputs": [],
   "source": [
    "import pandas as pd\n",
    "import numpy as np\n",
    "import datetime as dt\n",
    "import seaborn as sns\n",
    "from jupyterthemes import jtplot\n",
    "jtplot.reset() "
   ]
  },
  {
   "cell_type": "markdown",
   "metadata": {},
   "source": [
    "# Beautifulsoup\n",
    "\n",
    "<img src=\"https://www.crummy.com/software/BeautifulSoup/bs4/doc/_images/6.1.jpg\"\n",
    "     width=\"200\"\n",
    "     alt=\"bs4!\"\n",
    "     style=\"float: left; margin-center: 10px;\">"
   ]
  },
  {
   "cell_type": "markdown",
   "metadata": {},
   "source": [
    "## imports"
   ]
  },
  {
   "cell_type": "code",
   "execution_count": 2,
   "metadata": {},
   "outputs": [],
   "source": [
    "from bs4 import BeautifulSoup\n",
    "import requests"
   ]
  },
  {
   "cell_type": "markdown",
   "metadata": {},
   "source": [
    "## init"
   ]
  },
  {
   "cell_type": "code",
   "execution_count": 3,
   "metadata": {},
   "outputs": [],
   "source": [
    "initialize_bs4 = True"
   ]
  },
  {
   "cell_type": "markdown",
   "metadata": {},
   "source": [
    "## functions for bs4"
   ]
  },
  {
   "cell_type": "code",
   "execution_count": 4,
   "metadata": {},
   "outputs": [],
   "source": [
    "if initialize_bs4 is True:\n",
    "\n",
    "    def retrieve_titles_bs4(soup):\n",
    "        warning = soup.find('div', class_=\"alert alert-warning\")\n",
    "        book_container = warning.nextSibling.nextSibling\n",
    "        titles = [\n",
    "            h3.find('a').attrs['title'] for h3 in book_container.findAll('h3')\n",
    "        ]\n",
    "        return titles\n",
    "\n",
    "    def retrieve_prices_bs4(soup):\n",
    "        warning = soup.find('div', class_=\"alert alert-warning\")\n",
    "        book_container = warning.nextSibling.nextSibling\n",
    "        prices = [\n",
    "            float(p.text[1:])\n",
    "            for p in book_container.findAll('p', class_=\"price_color\")\n",
    "        ]  # Removing the pound sign and converting to float\n",
    "        return prices\n",
    "\n",
    "    def retrieve_availabilities_bs4(soup):\n",
    "        warning = soup.find('div', class_=\"alert alert-warning\")\n",
    "        book_container = warning.nextSibling.nextSibling\n",
    "        avails = [\n",
    "            a.text.strip()\n",
    "            for a in book_container.findAll('p', class_=\"instock availability\")\n",
    "        ]\n",
    "        return avails"
   ]
  },
  {
   "cell_type": "markdown",
   "metadata": {},
   "source": [
    "## raw code"
   ]
  },
  {
   "cell_type": "markdown",
   "metadata": {},
   "source": [
    "raw code:\n",
    "```python\n",
    "if initialize_bs4 is True:\n",
    "    start = dt.datetime.now()\n",
    "    html_page = requests.get('http://books.toscrape.com/'\n",
    "                             )  # Make a get request to retrieve the page\n",
    "    soup = BeautifulSoup(\n",
    "        html_page.content,\n",
    "        'html.parser')  # Pass the page contents to beautiful soup for parsing\n",
    "    \n",
    "    df_bs4 = pd.DataFrame()\n",
    "    for i in range(1, 5):\n",
    "        url = \"http://books.toscrape.com/catalogue/page-{}.html\".format(i)\n",
    "        html_page = requests.get(url)\n",
    "        soup = BeautifulSoup(html_page.content, 'html.parser')\n",
    "        warning = soup.find('div', class_=\"alert alert-warning\")\n",
    "        book_container = warning.nextSibling.nextSibling\n",
    "        df_bs4_temp = pd.DataFrame([\n",
    "            retrieve_titles_bs4(soup),\n",
    "            retrieve_prices_bs4(soup),\n",
    "            retrieve_availabilities_bs4(soup)\n",
    "        ]).transpose()\n",
    "        df_bs4_temp.columns = ['Title', 'Price_(pounds)', 'Availability']\n",
    "        df_bs4 = df_bs4.append(df_bs4_temp)\n",
    "    df_bs4.reset_index().drop(columns=['index'])\n",
    "    end = dt.datetime.now()\n",
    "    time_ = end - start\n",
    "    print(time_)\n",
    "df_bs4\n",
    "\n",
    "```"
   ]
  },
  {
   "cell_type": "markdown",
   "metadata": {},
   "source": [
    "## functions for test"
   ]
  },
  {
   "cell_type": "code",
   "execution_count": 5,
   "metadata": {},
   "outputs": [],
   "source": [
    "# as function\n",
    "def bs4_run(start, end):\n",
    "    if initialize_bs4 is True:\n",
    "        start_ = dt.datetime.now()\n",
    "        html_page = requests.get('http://books.toscrape.com/'\n",
    "                                 )  # Make a get request to retrieve the page\n",
    "        soup = BeautifulSoup(\n",
    "            html_page.content,\n",
    "            'html.parser')  # Pass the page contents to beautiful soup for parsing\n",
    "\n",
    "        df_bs4 = pd.DataFrame()\n",
    "        for i in range(start, end):\n",
    "            url = \"http://books.toscrape.com/catalogue/page-{}.html\".format(i)\n",
    "            html_page = requests.get(url)\n",
    "            soup = BeautifulSoup(html_page.content, 'html.parser')\n",
    "            warning = soup.find('div', class_=\"alert alert-warning\")\n",
    "            book_container = warning.nextSibling.nextSibling\n",
    "            df_bs4_temp = pd.DataFrame([\n",
    "                retrieve_titles_bs4(soup),\n",
    "                retrieve_prices_bs4(soup),\n",
    "                retrieve_availabilities_bs4(soup)\n",
    "            ]).transpose()\n",
    "            df_bs4_temp.columns = ['Title', 'Price_(pounds)', 'Availability']\n",
    "            df_bs4 = df_bs4.append(df_bs4_temp)\n",
    "        df_bs4.reset_index().drop(columns=['index'])\n",
    "        end_ = dt.datetime.now()\n",
    "        time_ = end_ - start_\n",
    "    print(time_)\n",
    "    return time_"
   ]
  },
  {
   "cell_type": "code",
   "execution_count": 6,
   "metadata": {},
   "outputs": [],
   "source": [
    "# for getting exucution time\n",
    "def test_bs4(times,start, end):\n",
    "    test_time=times\n",
    "    run_ = 0\n",
    "    time_list = []\n",
    "    while run_<=test_time:\n",
    "        time_ = bs4_run(start, end)\n",
    "        time_list.append(time_.total_seconds())\n",
    "        run_ +=1\n",
    "    return time_list"
   ]
  },
  {
   "cell_type": "markdown",
   "metadata": {},
   "source": [
    "## test"
   ]
  },
  {
   "cell_type": "code",
   "execution_count": 7,
   "metadata": {},
   "outputs": [
    {
     "name": "stdout",
     "output_type": "stream",
     "text": [
      "0:00:22.588909\n",
      "0:00:21.081076\n",
      "0:00:17.608823\n",
      "0:00:21.054067\n",
      "0:00:21.119570\n",
      "0:00:19.263121\n",
      "0:00:20.861941\n",
      "0:00:20.641224\n",
      "0:00:18.560842\n",
      "0:00:20.989659\n",
      "0:00:20.453591\n",
      "0:00:18.496910\n",
      "0:00:21.024091\n",
      "0:00:22.851801\n",
      "0:00:19.739495\n",
      "0:00:23.105616\n",
      "0:00:22.655524\n",
      "0:00:18.639519\n",
      "0:00:23.997596\n",
      "0:00:29.213100\n",
      "0:00:20.350744\n",
      "0:00:22.855720\n",
      "0:00:20.417156\n",
      "0:00:20.113169\n",
      "0:00:29.014841\n",
      "0:00:18.275746\n",
      "0:00:22.247247\n",
      "0:00:25.984755\n",
      "0:00:19.805578\n",
      "0:00:22.899694\n",
      "0:00:21.680533\n"
     ]
    },
    {
     "data": {
      "text/plain": [
       "[22.588909,\n",
       " 21.081076,\n",
       " 17.608823,\n",
       " 21.054067,\n",
       " 21.11957,\n",
       " 19.263121,\n",
       " 20.861941,\n",
       " 20.641224,\n",
       " 18.560842,\n",
       " 20.989659,\n",
       " 20.453591,\n",
       " 18.49691,\n",
       " 21.024091,\n",
       " 22.851801,\n",
       " 19.739495,\n",
       " 23.105616,\n",
       " 22.655524,\n",
       " 18.639519,\n",
       " 23.997596,\n",
       " 29.2131,\n",
       " 20.350744,\n",
       " 22.85572,\n",
       " 20.417156,\n",
       " 20.113169,\n",
       " 29.014841,\n",
       " 18.275746,\n",
       " 22.247247,\n",
       " 25.984755,\n",
       " 19.805578,\n",
       " 22.899694,\n",
       " 21.680533]"
      ]
     },
     "execution_count": 7,
     "metadata": {},
     "output_type": "execute_result"
    }
   ],
   "source": [
    "bs4_list = test_bs4(30,1,20)\n",
    "bs4_list"
   ]
  },
  {
   "cell_type": "markdown",
   "metadata": {},
   "source": [
    "# Selenium \n",
    "\n",
    "<img src=\"https://upload.wikimedia.org/wikipedia/commons/thumb/d/d5/Selenium_Logo.png/1024px-Selenium_Logo.png \"\n",
    "     width=\"200\"\n",
    "     alt=\"bs4!\"\n",
    "     style=\"float: left; margin-center: 10px;\">"
   ]
  },
  {
   "cell_type": "markdown",
   "metadata": {},
   "source": [
    "## packages"
   ]
  },
  {
   "cell_type": "code",
   "execution_count": 8,
   "metadata": {},
   "outputs": [],
   "source": [
    "from selenium import webdriver\n",
    "from selenium.webdriver.chrome.options import Options"
   ]
  },
  {
   "cell_type": "markdown",
   "metadata": {},
   "source": [
    "## init"
   ]
  },
  {
   "cell_type": "code",
   "execution_count": 9,
   "metadata": {},
   "outputs": [],
   "source": [
    "initialize_selenium = True"
   ]
  },
  {
   "cell_type": "markdown",
   "metadata": {},
   "source": [
    "## raw code"
   ]
  },
  {
   "cell_type": "markdown",
   "metadata": {},
   "source": [
    "raw code:\n",
    "```python\n",
    "if initialize_selenium is True:\n",
    "        start = dt.datetime.now()\n",
    "        # initializing webdriver\n",
    "        opts = Options()\n",
    "        opts.headless = True\n",
    "        driver = webdriver.Chrome(options=opts,\n",
    "                                  executable_path=r'./assets/chromedriver.exe')\n",
    "        # connection to webpage\n",
    "        base_url_string = 'http://books.toscrape.com/catalogue/page-'\n",
    "        # selecting pages to get\n",
    "        list_of_pages = np.arange(start, end, 1)\n",
    "        df_sel = pd.DataFrame()\n",
    "        for im in list_of_pages:\n",
    "            url = f'{base_url_string}{im}.html'\n",
    "            driver.get(url)\n",
    "            names = [\n",
    "                x.find_element_by_tag_name('h3').find_element_by_tag_name(\n",
    "                    'a').get_attribute('title')\n",
    "                for x in driver.find_elements_by_class_name('product_pod')\n",
    "            ]\n",
    "\n",
    "            prices = [\n",
    "                x.find_element_by_class_name('price_color').text[1:]\n",
    "                for x in driver.find_elements_by_class_name('product_pod')\n",
    "            ]\n",
    "            availabilities = [\n",
    "                x.find_element_by_class_name('product_price').text.split(\"\\n\")\n",
    "                [1] for x in driver.find_elements_by_class_name('product_pod')\n",
    "            ]\n",
    "            df_sel_temp = pd.DataFrame([names, prices,\n",
    "                                        availabilities]).transpose()\n",
    "            df_sel_temp.columns = ['Title', 'Price_(pounds)', 'Availability']\n",
    "            df_sel = df_sel.append(df_sel_temp)\n",
    "        df_sel.reset_index().drop(columns=['index'])\n",
    "        end = dt.datetime.now()\n",
    "        time_ = end - start\n",
    "    print(time_)\n",
    "    df_sel\n",
    "```"
   ]
  },
  {
   "cell_type": "markdown",
   "metadata": {},
   "source": [
    "## functions"
   ]
  },
  {
   "cell_type": "code",
   "execution_count": 10,
   "metadata": {},
   "outputs": [],
   "source": [
    "# as function\n",
    "def Selenium_run(start, end):\n",
    "    if initialize_selenium is True:\n",
    "        start_ = dt.datetime.now()\n",
    "        # initializing webdriver\n",
    "        opts = Options()\n",
    "        opts.headless = True\n",
    "        driver = webdriver.Chrome(options=opts,\n",
    "                                  executable_path=r'./assets/chromedriver.exe')\n",
    "        # connection to webpage\n",
    "        base_url_string = 'http://books.toscrape.com/catalogue/page-'\n",
    "        # selecting pages to get\n",
    "        list_of_pages = np.arange(start, end, 1)\n",
    "        df_sel = pd.DataFrame()\n",
    "        for im in list_of_pages:\n",
    "            url = f'{base_url_string}{im}.html'\n",
    "            driver.get(url)\n",
    "            names = [\n",
    "                x.find_element_by_tag_name('h3').find_element_by_tag_name(\n",
    "                    'a').get_attribute('title')\n",
    "                for x in driver.find_elements_by_class_name('product_pod')\n",
    "            ]\n",
    "\n",
    "            prices = [\n",
    "                x.find_element_by_class_name('price_color').text[1:]\n",
    "                for x in driver.find_elements_by_class_name('product_pod')\n",
    "            ]\n",
    "            availabilities = [\n",
    "                x.find_element_by_class_name('product_price').text.split(\"\\n\")\n",
    "                [1] for x in driver.find_elements_by_class_name('product_pod')\n",
    "            ]\n",
    "            df_sel_temp = pd.DataFrame([names, prices,\n",
    "                                        availabilities]).transpose()\n",
    "            df_sel_temp.columns = ['Title', 'Price_(pounds)', 'Availability']\n",
    "            df_sel = df_sel.append(df_sel_temp)\n",
    "        df_sel.reset_index().drop(columns=['index'])\n",
    "        end_ = dt.datetime.now()\n",
    "        time_ = end_ - start_\n",
    "    print(time_)\n",
    "    return time_"
   ]
  },
  {
   "cell_type": "code",
   "execution_count": 11,
   "metadata": {},
   "outputs": [],
   "source": [
    "# for getting exucution time\n",
    "def test_sel(times,start, end):\n",
    "    test_time=times\n",
    "    run_ = 0\n",
    "    time_list = []\n",
    "    while run_<=test_time:\n",
    "        time_ = Selenium_run(start, end)\n",
    "        time_list.append(time_.total_seconds())\n",
    "        run_ +=1\n",
    "    return time_list"
   ]
  },
  {
   "cell_type": "markdown",
   "metadata": {},
   "source": [
    "## test"
   ]
  },
  {
   "cell_type": "code",
   "execution_count": 13,
   "metadata": {},
   "outputs": [
    {
     "name": "stdout",
     "output_type": "stream",
     "text": [
      "0:00:51.334402\n",
      "0:01:02.317860\n",
      "0:03:17.038535\n",
      "0:00:55.254649\n",
      "0:00:49.442724\n",
      "0:00:49.789736\n",
      "0:00:50.113776\n",
      "0:00:50.135767\n",
      "0:00:58.860401\n",
      "0:00:51.230949\n",
      "0:00:49.747855\n",
      "0:00:49.515545\n",
      "0:00:49.304461\n",
      "0:00:58.228742\n",
      "0:00:51.518835\n",
      "0:00:50.866223\n",
      "0:00:51.522425\n",
      "0:00:48.949292\n",
      "0:01:12.208364\n",
      "0:00:50.894801\n",
      "0:00:50.653783\n",
      "0:00:50.632849\n",
      "0:00:50.168124\n",
      "0:00:49.176981\n",
      "0:00:59.253186\n",
      "0:00:50.887206\n",
      "0:00:49.048478\n",
      "0:00:50.226703\n",
      "0:00:48.817249\n",
      "0:00:48.849489\n",
      "0:01:01.081267\n"
     ]
    },
    {
     "data": {
      "text/plain": [
       "[51.334402,\n",
       " 62.31786,\n",
       " 197.038535,\n",
       " 55.254649,\n",
       " 49.442724,\n",
       " 49.789736,\n",
       " 50.113776,\n",
       " 50.135767,\n",
       " 58.860401,\n",
       " 51.230949,\n",
       " 49.747855,\n",
       " 49.515545,\n",
       " 49.304461,\n",
       " 58.228742,\n",
       " 51.518835,\n",
       " 50.866223,\n",
       " 51.522425,\n",
       " 48.949292,\n",
       " 72.208364,\n",
       " 50.894801,\n",
       " 50.653783,\n",
       " 50.632849,\n",
       " 50.168124,\n",
       " 49.176981,\n",
       " 59.253186,\n",
       " 50.887206,\n",
       " 49.048478,\n",
       " 50.226703,\n",
       " 48.817249,\n",
       " 48.849489,\n",
       " 61.081267]"
      ]
     },
     "execution_count": 13,
     "metadata": {},
     "output_type": "execute_result"
    }
   ],
   "source": [
    "sel_list = test_sel(30,1,20)\n",
    "sel_list"
   ]
  },
  {
   "cell_type": "markdown",
   "metadata": {},
   "source": [
    "# Scrapy Hack\n",
    "\n",
    "<img src=\"https://github.com/scrapy/scrapy/blob/2.4/artwork/scrapy-logo.jpg?raw=true \"\n",
    "     width=\"200\"\n",
    "     alt=\"bs4!\"\n",
    "     style=\"float: left; margin-center: 10px;\">"
   ]
  },
  {
   "cell_type": "markdown",
   "metadata": {},
   "source": [
    "## packages"
   ]
  },
  {
   "cell_type": "code",
   "execution_count": 26,
   "metadata": {},
   "outputs": [],
   "source": [
    "import scrapy\n",
    "import requests\n",
    "from scrapy.http import TextResponse"
   ]
  },
  {
   "cell_type": "markdown",
   "metadata": {},
   "source": [
    "## init"
   ]
  },
  {
   "cell_type": "code",
   "execution_count": 27,
   "metadata": {},
   "outputs": [],
   "source": [
    "initialize_scrapy = True"
   ]
  },
  {
   "cell_type": "markdown",
   "metadata": {},
   "source": [
    "## raw code"
   ]
  },
  {
   "cell_type": "markdown",
   "metadata": {},
   "source": [
    "raw code:\n",
    "```python\n",
    "if initialize_scrapy is True:\n",
    "    start = dt.datetime.now()\n",
    "    base_url = 'http://books.toscrape.com/catalogue/page-'\n",
    "    df_sc = pd.DataFrame()\n",
    "    for i in np.arange(1, 2, 1):\n",
    "        url = base_url + str(i) + '.html'\n",
    "        r = requests.get(url)\n",
    "        response = TextResponse(r.url, body=r.text, encoding='utf-8')\n",
    "        title = response.css(\"h3>a::attr(title)\").extract()\n",
    "        price = [\n",
    "            x[2:] for x in response.css(\n",
    "                \"div[class='product_price']>p[class='price_color']::text\").\n",
    "            extract()\n",
    "        ]\n",
    "        avail = [\n",
    "            x.split('\\n')[3].replace(\" \", \"\") for x in response.css(\n",
    "                \"div[class='product_price']>p[class='instock availability']\").\n",
    "            extract()\n",
    "        ]\n",
    "        df_sc_temp = pd.DataFrame([title, price, avail]).transpose()\n",
    "        df_sc_temp.columns = ['Title', 'Price_(pounds)', 'Availability']\n",
    "        df_sc = df_sc.append(df_sc_temp)\n",
    "    end = dt.datetime.now()\n",
    "    time_ = end - start\n",
    "    print(time_)\n",
    "    df_sc\n",
    "```"
   ]
  },
  {
   "cell_type": "markdown",
   "metadata": {},
   "source": [
    "## functions"
   ]
  },
  {
   "cell_type": "code",
   "execution_count": 28,
   "metadata": {},
   "outputs": [],
   "source": [
    "def sc_run(start, end):\n",
    "    if initialize_scrapy is True:\n",
    "        start = dt.datetime.now()\n",
    "        base_url = 'http://books.toscrape.com/catalogue/page-'\n",
    "        df_sc = pd.DataFrame()\n",
    "        for i in np.arange(start, end, 1):\n",
    "            url = base_url + str(i) + '.html'\n",
    "            r = requests.get(url)\n",
    "            response = TextResponse(r.url, body=r.text, encoding='utf-8')\n",
    "            title = response.css(\"h3>a::attr(title)\").extract()\n",
    "            price = [\n",
    "                x[2:] for x in response.css(\n",
    "                    \"div[class='product_price']>p[class='price_color']::text\").\n",
    "                extract()\n",
    "            ]\n",
    "            avail = [\n",
    "                x.split('\\n')[3].replace(\" \", \"\") for x in response.css(\n",
    "                    \"div[class='product_price']>p[class='instock availability']\"\n",
    "                ).extract()\n",
    "            ]\n",
    "            df_sc_temp = pd.DataFrame([title, price, avail]).transpose()\n",
    "            df_sc_temp.columns = ['Title', 'Price_(pounds)', 'Availability']\n",
    "            df_sc = df_sc.append(df_sc_temp)\n",
    "        end = dt.datetime.now()\n",
    "        time_ = end - start\n",
    "        print(time_)\n",
    "        return time_"
   ]
  },
  {
   "cell_type": "code",
   "execution_count": 30,
   "metadata": {},
   "outputs": [],
   "source": [
    "# for getting exucution time\n",
    "def test_sc(times,start, end):\n",
    "    test_time=times\n",
    "    run_ = 0\n",
    "    time_list = []\n",
    "    while run_<=test_time:\n",
    "        time_ = sc_run(start, end)\n",
    "        time_list.append(time_.total_seconds())\n",
    "        run_ +=1\n",
    "    return time_list"
   ]
  },
  {
   "cell_type": "markdown",
   "metadata": {},
   "source": [
    "## test "
   ]
  },
  {
   "cell_type": "code",
   "execution_count": 31,
   "metadata": {},
   "outputs": [
    {
     "name": "stdout",
     "output_type": "stream",
     "text": [
      "0:00:14.023608\n",
      "0:00:19.832731\n",
      "0:00:29.141474\n",
      "0:00:14.298718\n",
      "0:00:19.956682\n",
      "0:00:28.649661\n",
      "0:00:16.981202\n",
      "0:00:13.947175\n",
      "0:00:28.380820\n",
      "0:00:15.171341\n",
      "0:00:18.465039\n",
      "0:00:28.600817\n",
      "0:00:16.839148\n",
      "0:00:23.535996\n",
      "0:00:22.502272\n",
      "0:00:20.426757\n",
      "0:00:34.506726\n",
      "0:00:16.614674\n",
      "0:00:19.047138\n",
      "0:00:24.072060\n",
      "0:00:16.011762\n",
      "0:00:22.357766\n",
      "0:00:26.134986\n",
      "0:00:20.119217\n",
      "0:00:24.936586\n",
      "0:00:21.108756\n",
      "0:00:19.492593\n",
      "0:00:32.141590\n",
      "0:00:17.909364\n",
      "0:00:19.417362\n",
      "0:00:24.839079\n"
     ]
    },
    {
     "data": {
      "text/plain": [
       "[14.023608,\n",
       " 19.832731,\n",
       " 29.141474,\n",
       " 14.298718,\n",
       " 19.956682,\n",
       " 28.649661,\n",
       " 16.981202,\n",
       " 13.947175,\n",
       " 28.38082,\n",
       " 15.171341,\n",
       " 18.465039,\n",
       " 28.600817,\n",
       " 16.839148,\n",
       " 23.535996,\n",
       " 22.502272,\n",
       " 20.426757,\n",
       " 34.506726,\n",
       " 16.614674,\n",
       " 19.047138,\n",
       " 24.07206,\n",
       " 16.011762,\n",
       " 22.357766,\n",
       " 26.134986,\n",
       " 20.119217,\n",
       " 24.936586,\n",
       " 21.108756,\n",
       " 19.492593,\n",
       " 32.14159,\n",
       " 17.909364,\n",
       " 19.417362,\n",
       " 24.839079]"
      ]
     },
     "execution_count": 31,
     "metadata": {},
     "output_type": "execute_result"
    }
   ],
   "source": [
    "sc_list = test_sc(30,1,20)\n",
    "sc_list"
   ]
  },
  {
   "cell_type": "markdown",
   "metadata": {},
   "source": [
    "# Results"
   ]
  },
  {
   "cell_type": "code",
   "execution_count": 70,
   "metadata": {},
   "outputs": [
    {
     "data": {
      "text/html": [
       "<div>\n",
       "<style scoped>\n",
       "    .dataframe tbody tr th:only-of-type {\n",
       "        vertical-align: middle;\n",
       "    }\n",
       "\n",
       "    .dataframe tbody tr th {\n",
       "        vertical-align: top;\n",
       "    }\n",
       "\n",
       "    .dataframe thead th {\n",
       "        text-align: right;\n",
       "    }\n",
       "</style>\n",
       "<table border=\"1\" class=\"dataframe\">\n",
       "  <thead>\n",
       "    <tr style=\"text-align: right;\">\n",
       "      <th></th>\n",
       "      <th>bs4</th>\n",
       "      <th>Selenium</th>\n",
       "      <th>Scrapy</th>\n",
       "    </tr>\n",
       "  </thead>\n",
       "  <tbody>\n",
       "    <tr>\n",
       "      <th>0</th>\n",
       "      <td>22.588909</td>\n",
       "      <td>51.334402</td>\n",
       "      <td>14.023608</td>\n",
       "    </tr>\n",
       "    <tr>\n",
       "      <th>1</th>\n",
       "      <td>21.081076</td>\n",
       "      <td>62.317860</td>\n",
       "      <td>19.832731</td>\n",
       "    </tr>\n",
       "    <tr>\n",
       "      <th>2</th>\n",
       "      <td>17.608823</td>\n",
       "      <td>197.038535</td>\n",
       "      <td>29.141474</td>\n",
       "    </tr>\n",
       "    <tr>\n",
       "      <th>3</th>\n",
       "      <td>21.054067</td>\n",
       "      <td>55.254649</td>\n",
       "      <td>14.298718</td>\n",
       "    </tr>\n",
       "    <tr>\n",
       "      <th>4</th>\n",
       "      <td>21.119570</td>\n",
       "      <td>49.442724</td>\n",
       "      <td>19.956682</td>\n",
       "    </tr>\n",
       "    <tr>\n",
       "      <th>5</th>\n",
       "      <td>19.263121</td>\n",
       "      <td>49.789736</td>\n",
       "      <td>28.649661</td>\n",
       "    </tr>\n",
       "    <tr>\n",
       "      <th>6</th>\n",
       "      <td>20.861941</td>\n",
       "      <td>50.113776</td>\n",
       "      <td>16.981202</td>\n",
       "    </tr>\n",
       "    <tr>\n",
       "      <th>7</th>\n",
       "      <td>20.641224</td>\n",
       "      <td>50.135767</td>\n",
       "      <td>13.947175</td>\n",
       "    </tr>\n",
       "    <tr>\n",
       "      <th>8</th>\n",
       "      <td>18.560842</td>\n",
       "      <td>58.860401</td>\n",
       "      <td>28.380820</td>\n",
       "    </tr>\n",
       "    <tr>\n",
       "      <th>9</th>\n",
       "      <td>20.989659</td>\n",
       "      <td>51.230949</td>\n",
       "      <td>15.171341</td>\n",
       "    </tr>\n",
       "    <tr>\n",
       "      <th>10</th>\n",
       "      <td>20.453591</td>\n",
       "      <td>49.747855</td>\n",
       "      <td>18.465039</td>\n",
       "    </tr>\n",
       "    <tr>\n",
       "      <th>11</th>\n",
       "      <td>18.496910</td>\n",
       "      <td>49.515545</td>\n",
       "      <td>28.600817</td>\n",
       "    </tr>\n",
       "    <tr>\n",
       "      <th>12</th>\n",
       "      <td>21.024091</td>\n",
       "      <td>49.304461</td>\n",
       "      <td>16.839148</td>\n",
       "    </tr>\n",
       "    <tr>\n",
       "      <th>13</th>\n",
       "      <td>22.851801</td>\n",
       "      <td>58.228742</td>\n",
       "      <td>23.535996</td>\n",
       "    </tr>\n",
       "    <tr>\n",
       "      <th>14</th>\n",
       "      <td>19.739495</td>\n",
       "      <td>51.518835</td>\n",
       "      <td>22.502272</td>\n",
       "    </tr>\n",
       "    <tr>\n",
       "      <th>15</th>\n",
       "      <td>23.105616</td>\n",
       "      <td>50.866223</td>\n",
       "      <td>20.426757</td>\n",
       "    </tr>\n",
       "    <tr>\n",
       "      <th>16</th>\n",
       "      <td>22.655524</td>\n",
       "      <td>51.522425</td>\n",
       "      <td>34.506726</td>\n",
       "    </tr>\n",
       "    <tr>\n",
       "      <th>17</th>\n",
       "      <td>18.639519</td>\n",
       "      <td>48.949292</td>\n",
       "      <td>16.614674</td>\n",
       "    </tr>\n",
       "    <tr>\n",
       "      <th>18</th>\n",
       "      <td>23.997596</td>\n",
       "      <td>72.208364</td>\n",
       "      <td>19.047138</td>\n",
       "    </tr>\n",
       "    <tr>\n",
       "      <th>19</th>\n",
       "      <td>29.213100</td>\n",
       "      <td>50.894801</td>\n",
       "      <td>24.072060</td>\n",
       "    </tr>\n",
       "    <tr>\n",
       "      <th>20</th>\n",
       "      <td>20.350744</td>\n",
       "      <td>50.653783</td>\n",
       "      <td>16.011762</td>\n",
       "    </tr>\n",
       "    <tr>\n",
       "      <th>21</th>\n",
       "      <td>22.855720</td>\n",
       "      <td>50.632849</td>\n",
       "      <td>22.357766</td>\n",
       "    </tr>\n",
       "    <tr>\n",
       "      <th>22</th>\n",
       "      <td>20.417156</td>\n",
       "      <td>50.168124</td>\n",
       "      <td>26.134986</td>\n",
       "    </tr>\n",
       "    <tr>\n",
       "      <th>23</th>\n",
       "      <td>20.113169</td>\n",
       "      <td>49.176981</td>\n",
       "      <td>20.119217</td>\n",
       "    </tr>\n",
       "    <tr>\n",
       "      <th>24</th>\n",
       "      <td>29.014841</td>\n",
       "      <td>59.253186</td>\n",
       "      <td>24.936586</td>\n",
       "    </tr>\n",
       "    <tr>\n",
       "      <th>25</th>\n",
       "      <td>18.275746</td>\n",
       "      <td>50.887206</td>\n",
       "      <td>21.108756</td>\n",
       "    </tr>\n",
       "    <tr>\n",
       "      <th>26</th>\n",
       "      <td>22.247247</td>\n",
       "      <td>49.048478</td>\n",
       "      <td>19.492593</td>\n",
       "    </tr>\n",
       "    <tr>\n",
       "      <th>27</th>\n",
       "      <td>25.984755</td>\n",
       "      <td>50.226703</td>\n",
       "      <td>32.141590</td>\n",
       "    </tr>\n",
       "    <tr>\n",
       "      <th>28</th>\n",
       "      <td>19.805578</td>\n",
       "      <td>48.817249</td>\n",
       "      <td>17.909364</td>\n",
       "    </tr>\n",
       "    <tr>\n",
       "      <th>29</th>\n",
       "      <td>22.899694</td>\n",
       "      <td>48.849489</td>\n",
       "      <td>19.417362</td>\n",
       "    </tr>\n",
       "    <tr>\n",
       "      <th>30</th>\n",
       "      <td>21.680533</td>\n",
       "      <td>61.081267</td>\n",
       "      <td>24.839079</td>\n",
       "    </tr>\n",
       "  </tbody>\n",
       "</table>\n",
       "</div>"
      ],
      "text/plain": [
       "          bs4    Selenium     Scrapy\n",
       "0   22.588909   51.334402  14.023608\n",
       "1   21.081076   62.317860  19.832731\n",
       "2   17.608823  197.038535  29.141474\n",
       "3   21.054067   55.254649  14.298718\n",
       "4   21.119570   49.442724  19.956682\n",
       "5   19.263121   49.789736  28.649661\n",
       "6   20.861941   50.113776  16.981202\n",
       "7   20.641224   50.135767  13.947175\n",
       "8   18.560842   58.860401  28.380820\n",
       "9   20.989659   51.230949  15.171341\n",
       "10  20.453591   49.747855  18.465039\n",
       "11  18.496910   49.515545  28.600817\n",
       "12  21.024091   49.304461  16.839148\n",
       "13  22.851801   58.228742  23.535996\n",
       "14  19.739495   51.518835  22.502272\n",
       "15  23.105616   50.866223  20.426757\n",
       "16  22.655524   51.522425  34.506726\n",
       "17  18.639519   48.949292  16.614674\n",
       "18  23.997596   72.208364  19.047138\n",
       "19  29.213100   50.894801  24.072060\n",
       "20  20.350744   50.653783  16.011762\n",
       "21  22.855720   50.632849  22.357766\n",
       "22  20.417156   50.168124  26.134986\n",
       "23  20.113169   49.176981  20.119217\n",
       "24  29.014841   59.253186  24.936586\n",
       "25  18.275746   50.887206  21.108756\n",
       "26  22.247247   49.048478  19.492593\n",
       "27  25.984755   50.226703  32.141590\n",
       "28  19.805578   48.817249  17.909364\n",
       "29  22.899694   48.849489  19.417362\n",
       "30  21.680533   61.081267  24.839079"
      ]
     },
     "execution_count": 70,
     "metadata": {},
     "output_type": "execute_result"
    }
   ],
   "source": [
    "df = pd.DataFrame([bs4_list, sel_list, sc_list]).transpose()\n",
    "df.columns = ['bs4', 'Selenium', 'Scrapy']\n",
    "df"
   ]
  },
  {
   "cell_type": "code",
   "execution_count": 71,
   "metadata": {},
   "outputs": [],
   "source": [
    "df.to_csv('./assets/race.csv', index=False)"
   ]
  },
  {
   "cell_type": "code",
   "execution_count": 72,
   "metadata": {},
   "outputs": [
    {
     "data": {
      "text/html": [
       "<style  type=\"text/css\" >\n",
       "#T_b5d5a4fb_934a_11eb_89b9_3024a9882581row0_col0,#T_b5d5a4fb_934a_11eb_89b9_3024a9882581row0_col1,#T_b5d5a4fb_934a_11eb_89b9_3024a9882581row0_col2,#T_b5d5a4fb_934a_11eb_89b9_3024a9882581row1_col0,#T_b5d5a4fb_934a_11eb_89b9_3024a9882581row1_col2,#T_b5d5a4fb_934a_11eb_89b9_3024a9882581row2_col0,#T_b5d5a4fb_934a_11eb_89b9_3024a9882581row3_col2,#T_b5d5a4fb_934a_11eb_89b9_3024a9882581row4_col2,#T_b5d5a4fb_934a_11eb_89b9_3024a9882581row5_col2,#T_b5d5a4fb_934a_11eb_89b9_3024a9882581row6_col0,#T_b5d5a4fb_934a_11eb_89b9_3024a9882581row7_col0{\n",
       "            background-color:  #40004b;\n",
       "            color:  #f1f1f1;\n",
       "        }#T_b5d5a4fb_934a_11eb_89b9_3024a9882581row1_col1,#T_b5d5a4fb_934a_11eb_89b9_3024a9882581row2_col1,#T_b5d5a4fb_934a_11eb_89b9_3024a9882581row3_col1,#T_b5d5a4fb_934a_11eb_89b9_3024a9882581row4_col1,#T_b5d5a4fb_934a_11eb_89b9_3024a9882581row5_col1,#T_b5d5a4fb_934a_11eb_89b9_3024a9882581row6_col1,#T_b5d5a4fb_934a_11eb_89b9_3024a9882581row7_col1{\n",
       "            background-color:  #00441b;\n",
       "            color:  #f1f1f1;\n",
       "        }#T_b5d5a4fb_934a_11eb_89b9_3024a9882581row2_col2{\n",
       "            background-color:  #7b3488;\n",
       "            color:  #f1f1f1;\n",
       "        }#T_b5d5a4fb_934a_11eb_89b9_3024a9882581row3_col0{\n",
       "            background-color:  #772b84;\n",
       "            color:  #f1f1f1;\n",
       "        }#T_b5d5a4fb_934a_11eb_89b9_3024a9882581row4_col0{\n",
       "            background-color:  #681f75;\n",
       "            color:  #f1f1f1;\n",
       "        }#T_b5d5a4fb_934a_11eb_89b9_3024a9882581row5_col0{\n",
       "            background-color:  #4f0c5a;\n",
       "            color:  #f1f1f1;\n",
       "        }#T_b5d5a4fb_934a_11eb_89b9_3024a9882581row6_col2{\n",
       "            background-color:  #641c70;\n",
       "            color:  #f1f1f1;\n",
       "        }#T_b5d5a4fb_934a_11eb_89b9_3024a9882581row7_col2{\n",
       "            background-color:  #510d5d;\n",
       "            color:  #f1f1f1;\n",
       "        }</style><table id=\"T_b5d5a4fb_934a_11eb_89b9_3024a9882581\" ><thead>    <tr>        <th class=\"blank level0\" ></th>        <th class=\"col_heading level0 col0\" >bs4</th>        <th class=\"col_heading level0 col1\" >Selenium</th>        <th class=\"col_heading level0 col2\" >Scrapy</th>    </tr></thead><tbody>\n",
       "                <tr>\n",
       "                        <th id=\"T_b5d5a4fb_934a_11eb_89b9_3024a9882581level0_row0\" class=\"row_heading level0 row0\" >count</th>\n",
       "                        <td id=\"T_b5d5a4fb_934a_11eb_89b9_3024a9882581row0_col0\" class=\"data row0 col0\" >31.000000</td>\n",
       "                        <td id=\"T_b5d5a4fb_934a_11eb_89b9_3024a9882581row0_col1\" class=\"data row0 col1\" >31.000000</td>\n",
       "                        <td id=\"T_b5d5a4fb_934a_11eb_89b9_3024a9882581row0_col2\" class=\"data row0 col2\" >31.000000</td>\n",
       "            </tr>\n",
       "            <tr>\n",
       "                        <th id=\"T_b5d5a4fb_934a_11eb_89b9_3024a9882581level0_row1\" class=\"row_heading level0 row1\" >mean</th>\n",
       "                        <td id=\"T_b5d5a4fb_934a_11eb_89b9_3024a9882581row1_col0\" class=\"data row1 col0\" >21.535215</td>\n",
       "                        <td id=\"T_b5d5a4fb_934a_11eb_89b9_3024a9882581row1_col1\" class=\"data row1 col1\" >57.324860</td>\n",
       "                        <td id=\"T_b5d5a4fb_934a_11eb_89b9_3024a9882581row1_col2\" class=\"data row1 col2\" >21.595584</td>\n",
       "            </tr>\n",
       "            <tr>\n",
       "                        <th id=\"T_b5d5a4fb_934a_11eb_89b9_3024a9882581level0_row2\" class=\"row_heading level0 row2\" >std</th>\n",
       "                        <td id=\"T_b5d5a4fb_934a_11eb_89b9_3024a9882581row2_col0\" class=\"data row2 col0\" >2.730108</td>\n",
       "                        <td id=\"T_b5d5a4fb_934a_11eb_89b9_3024a9882581row2_col1\" class=\"data row2 col1\" >26.458774</td>\n",
       "                        <td id=\"T_b5d5a4fb_934a_11eb_89b9_3024a9882581row2_col2\" class=\"data row2 col2\" >5.453435</td>\n",
       "            </tr>\n",
       "            <tr>\n",
       "                        <th id=\"T_b5d5a4fb_934a_11eb_89b9_3024a9882581level0_row3\" class=\"row_heading level0 row3\" >min</th>\n",
       "                        <td id=\"T_b5d5a4fb_934a_11eb_89b9_3024a9882581row3_col0\" class=\"data row3 col0\" >17.608823</td>\n",
       "                        <td id=\"T_b5d5a4fb_934a_11eb_89b9_3024a9882581row3_col1\" class=\"data row3 col1\" >48.817249</td>\n",
       "                        <td id=\"T_b5d5a4fb_934a_11eb_89b9_3024a9882581row3_col2\" class=\"data row3 col2\" >13.947175</td>\n",
       "            </tr>\n",
       "            <tr>\n",
       "                        <th id=\"T_b5d5a4fb_934a_11eb_89b9_3024a9882581level0_row4\" class=\"row_heading level0 row4\" >25%</th>\n",
       "                        <td id=\"T_b5d5a4fb_934a_11eb_89b9_3024a9882581row4_col0\" class=\"data row4 col0\" >19.959373</td>\n",
       "                        <td id=\"T_b5d5a4fb_934a_11eb_89b9_3024a9882581row4_col1\" class=\"data row4 col1\" >49.631700</td>\n",
       "                        <td id=\"T_b5d5a4fb_934a_11eb_89b9_3024a9882581row4_col2\" class=\"data row4 col2\" >17.445283</td>\n",
       "            </tr>\n",
       "            <tr>\n",
       "                        <th id=\"T_b5d5a4fb_934a_11eb_89b9_3024a9882581level0_row5\" class=\"row_heading level0 row5\" >50%</th>\n",
       "                        <td id=\"T_b5d5a4fb_934a_11eb_89b9_3024a9882581row5_col0\" class=\"data row5 col0\" >21.024091</td>\n",
       "                        <td id=\"T_b5d5a4fb_934a_11eb_89b9_3024a9882581row5_col1\" class=\"data row5 col1\" >50.653783</td>\n",
       "                        <td id=\"T_b5d5a4fb_934a_11eb_89b9_3024a9882581row5_col2\" class=\"data row5 col2\" >20.119217</td>\n",
       "            </tr>\n",
       "            <tr>\n",
       "                        <th id=\"T_b5d5a4fb_934a_11eb_89b9_3024a9882581level0_row6\" class=\"row_heading level0 row6\" >75%</th>\n",
       "                        <td id=\"T_b5d5a4fb_934a_11eb_89b9_3024a9882581row6_col0\" class=\"data row6 col0\" >22.753662</td>\n",
       "                        <td id=\"T_b5d5a4fb_934a_11eb_89b9_3024a9882581row6_col1\" class=\"data row6 col1\" >53.388537</td>\n",
       "                        <td id=\"T_b5d5a4fb_934a_11eb_89b9_3024a9882581row6_col2\" class=\"data row6 col2\" >24.887833</td>\n",
       "            </tr>\n",
       "            <tr>\n",
       "                        <th id=\"T_b5d5a4fb_934a_11eb_89b9_3024a9882581level0_row7\" class=\"row_heading level0 row7\" >max</th>\n",
       "                        <td id=\"T_b5d5a4fb_934a_11eb_89b9_3024a9882581row7_col0\" class=\"data row7 col0\" >29.213100</td>\n",
       "                        <td id=\"T_b5d5a4fb_934a_11eb_89b9_3024a9882581row7_col1\" class=\"data row7 col1\" >197.038535</td>\n",
       "                        <td id=\"T_b5d5a4fb_934a_11eb_89b9_3024a9882581row7_col2\" class=\"data row7 col2\" >34.506726</td>\n",
       "            </tr>\n",
       "    </tbody></table>"
      ],
      "text/plain": [
       "<pandas.io.formats.style.Styler at 0x2ba93cf0a30>"
      ]
     },
     "execution_count": 72,
     "metadata": {},
     "output_type": "execute_result"
    }
   ],
   "source": [
    "df.describe().style.background_gradient(axis=1,cmap='PRGn')"
   ]
  },
  {
   "cell_type": "code",
   "execution_count": 73,
   "metadata": {},
   "outputs": [
    {
     "data": {
      "text/plain": [
       "bs4         21.535215\n",
       "Selenium    57.324860\n",
       "Scrapy      21.595584\n",
       "dtype: float64"
      ]
     },
     "execution_count": 73,
     "metadata": {},
     "output_type": "execute_result"
    }
   ],
   "source": [
    "df.mean()"
   ]
  },
  {
   "cell_type": "code",
   "execution_count": 103,
   "metadata": {},
   "outputs": [
    {
     "data": {
      "image/png": "[encoded data removed]",
      "text/plain": [
       "<Figure size 640x480 with 1 Axes>"
      ]
     },
     "metadata": {},
     "output_type": "display_data"
    }
   ],
   "source": [
    "sns.histplot(data=df, bins=15, stat='density', kde=True);"
   ]
  },
  {
   "cell_type": "code",
   "execution_count": 76,
   "metadata": {},
   "outputs": [],
   "source": [
    "from sklearn import preprocessing"
   ]
  },
  {
   "cell_type": "code",
   "execution_count": 78,
   "metadata": {},
   "outputs": [],
   "source": [
    "normalized = preprocessing.normalize(df)"
   ]
  },
  {
   "cell_type": "code",
   "execution_count": 79,
   "metadata": {},
   "outputs": [
    {
     "data": {
      "text/html": [
       "<div>\n",
       "<style scoped>\n",
       "    .dataframe tbody tr th:only-of-type {\n",
       "        vertical-align: middle;\n",
       "    }\n",
       "\n",
       "    .dataframe tbody tr th {\n",
       "        vertical-align: top;\n",
       "    }\n",
       "\n",
       "    .dataframe thead th {\n",
       "        text-align: right;\n",
       "    }\n",
       "</style>\n",
       "<table border=\"1\" class=\"dataframe\">\n",
       "  <thead>\n",
       "    <tr style=\"text-align: right;\">\n",
       "      <th></th>\n",
       "      <th>bs4</th>\n",
       "      <th>Selenium</th>\n",
       "      <th>Scrapy</th>\n",
       "    </tr>\n",
       "  </thead>\n",
       "  <tbody>\n",
       "    <tr>\n",
       "      <th>0</th>\n",
       "      <td>0.390735</td>\n",
       "      <td>0.887966</td>\n",
       "      <td>0.242576</td>\n",
       "    </tr>\n",
       "    <tr>\n",
       "      <th>1</th>\n",
       "      <td>0.306806</td>\n",
       "      <td>0.906950</td>\n",
       "      <td>0.288638</td>\n",
       "    </tr>\n",
       "    <tr>\n",
       "      <th>2</th>\n",
       "      <td>0.088062</td>\n",
       "      <td>0.985396</td>\n",
       "      <td>0.145737</td>\n",
       "    </tr>\n",
       "    <tr>\n",
       "      <th>3</th>\n",
       "      <td>0.346089</td>\n",
       "      <td>0.908282</td>\n",
       "      <td>0.235044</td>\n",
       "    </tr>\n",
       "    <tr>\n",
       "      <th>4</th>\n",
       "      <td>0.368265</td>\n",
       "      <td>0.862140</td>\n",
       "      <td>0.347988</td>\n",
       "    </tr>\n",
       "    <tr>\n",
       "      <th>5</th>\n",
       "      <td>0.317937</td>\n",
       "      <td>0.821777</td>\n",
       "      <td>0.472861</td>\n",
       "    </tr>\n",
       "    <tr>\n",
       "      <th>6</th>\n",
       "      <td>0.366792</td>\n",
       "      <td>0.881093</td>\n",
       "      <td>0.298561</td>\n",
       "    </tr>\n",
       "    <tr>\n",
       "      <th>7</th>\n",
       "      <td>0.368700</td>\n",
       "      <td>0.895542</td>\n",
       "      <td>0.249129</td>\n",
       "    </tr>\n",
       "    <tr>\n",
       "      <th>8</th>\n",
       "      <td>0.273234</td>\n",
       "      <td>0.866483</td>\n",
       "      <td>0.417793</td>\n",
       "    </tr>\n",
       "    <tr>\n",
       "      <th>9</th>\n",
       "      <td>0.365641</td>\n",
       "      <td>0.892446</td>\n",
       "      <td>0.264286</td>\n",
       "    </tr>\n",
       "    <tr>\n",
       "      <th>10</th>\n",
       "      <td>0.359657</td>\n",
       "      <td>0.874770</td>\n",
       "      <td>0.324691</td>\n",
       "    </tr>\n",
       "    <tr>\n",
       "      <th>11</th>\n",
       "      <td>0.307772</td>\n",
       "      <td>0.823895</td>\n",
       "      <td>0.475892</td>\n",
       "    </tr>\n",
       "    <tr>\n",
       "      <th>12</th>\n",
       "      <td>0.374209</td>\n",
       "      <td>0.877573</td>\n",
       "      <td>0.299721</td>\n",
       "    </tr>\n",
       "    <tr>\n",
       "      <th>13</th>\n",
       "      <td>0.341921</td>\n",
       "      <td>0.871249</td>\n",
       "      <td>0.352158</td>\n",
       "    </tr>\n",
       "    <tr>\n",
       "      <th>14</th>\n",
       "      <td>0.331291</td>\n",
       "      <td>0.864650</td>\n",
       "      <td>0.377660</td>\n",
       "    </tr>\n",
       "    <tr>\n",
       "      <th>15</th>\n",
       "      <td>0.388426</td>\n",
       "      <td>0.855107</td>\n",
       "      <td>0.343392</td>\n",
       "    </tr>\n",
       "    <tr>\n",
       "      <th>16</th>\n",
       "      <td>0.343165</td>\n",
       "      <td>0.780415</td>\n",
       "      <td>0.522676</td>\n",
       "    </tr>\n",
       "    <tr>\n",
       "      <th>17</th>\n",
       "      <td>0.339208</td>\n",
       "      <td>0.890796</td>\n",
       "      <td>0.302359</td>\n",
       "    </tr>\n",
       "    <tr>\n",
       "      <th>18</th>\n",
       "      <td>0.305938</td>\n",
       "      <td>0.920563</td>\n",
       "      <td>0.242826</td>\n",
       "    </tr>\n",
       "    <tr>\n",
       "      <th>19</th>\n",
       "      <td>0.460569</td>\n",
       "      <td>0.802399</td>\n",
       "      <td>0.379516</td>\n",
       "    </tr>\n",
       "    <tr>\n",
       "      <th>20</th>\n",
       "      <td>0.357729</td>\n",
       "      <td>0.890400</td>\n",
       "      <td>0.281457</td>\n",
       "    </tr>\n",
       "    <tr>\n",
       "      <th>21</th>\n",
       "      <td>0.381675</td>\n",
       "      <td>0.845534</td>\n",
       "      <td>0.373359</td>\n",
       "    </tr>\n",
       "    <tr>\n",
       "      <th>22</th>\n",
       "      <td>0.339498</td>\n",
       "      <td>0.834198</td>\n",
       "      <td>0.434574</td>\n",
       "    </tr>\n",
       "    <tr>\n",
       "      <th>23</th>\n",
       "      <td>0.354025</td>\n",
       "      <td>0.865596</td>\n",
       "      <td>0.354132</td>\n",
       "    </tr>\n",
       "    <tr>\n",
       "      <th>24</th>\n",
       "      <td>0.411377</td>\n",
       "      <td>0.840100</td>\n",
       "      <td>0.353555</td>\n",
       "    </tr>\n",
       "    <tr>\n",
       "      <th>25</th>\n",
       "      <td>0.314861</td>\n",
       "      <td>0.876703</td>\n",
       "      <td>0.363669</td>\n",
       "    </tr>\n",
       "    <tr>\n",
       "      <th>26</th>\n",
       "      <td>0.388415</td>\n",
       "      <td>0.856338</td>\n",
       "      <td>0.340321</td>\n",
       "    </tr>\n",
       "    <tr>\n",
       "      <th>27</th>\n",
       "      <td>0.399481</td>\n",
       "      <td>0.772169</td>\n",
       "      <td>0.494135</td>\n",
       "    </tr>\n",
       "    <tr>\n",
       "      <th>28</th>\n",
       "      <td>0.355941</td>\n",
       "      <td>0.877331</td>\n",
       "      <td>0.321863</td>\n",
       "    </tr>\n",
       "    <tr>\n",
       "      <th>29</th>\n",
       "      <td>0.399377</td>\n",
       "      <td>0.851949</td>\n",
       "      <td>0.338644</td>\n",
       "    </tr>\n",
       "    <tr>\n",
       "      <th>30</th>\n",
       "      <td>0.312348</td>\n",
       "      <td>0.879989</td>\n",
       "      <td>0.357853</td>\n",
       "    </tr>\n",
       "  </tbody>\n",
       "</table>\n",
       "</div>"
      ],
      "text/plain": [
       "         bs4  Selenium    Scrapy\n",
       "0   0.390735  0.887966  0.242576\n",
       "1   0.306806  0.906950  0.288638\n",
       "2   0.088062  0.985396  0.145737\n",
       "3   0.346089  0.908282  0.235044\n",
       "4   0.368265  0.862140  0.347988\n",
       "5   0.317937  0.821777  0.472861\n",
       "6   0.366792  0.881093  0.298561\n",
       "7   0.368700  0.895542  0.249129\n",
       "8   0.273234  0.866483  0.417793\n",
       "9   0.365641  0.892446  0.264286\n",
       "10  0.359657  0.874770  0.324691\n",
       "11  0.307772  0.823895  0.475892\n",
       "12  0.374209  0.877573  0.299721\n",
       "13  0.341921  0.871249  0.352158\n",
       "14  0.331291  0.864650  0.377660\n",
       "15  0.388426  0.855107  0.343392\n",
       "16  0.343165  0.780415  0.522676\n",
       "17  0.339208  0.890796  0.302359\n",
       "18  0.305938  0.920563  0.242826\n",
       "19  0.460569  0.802399  0.379516\n",
       "20  0.357729  0.890400  0.281457\n",
       "21  0.381675  0.845534  0.373359\n",
       "22  0.339498  0.834198  0.434574\n",
       "23  0.354025  0.865596  0.354132\n",
       "24  0.411377  0.840100  0.353555\n",
       "25  0.314861  0.876703  0.363669\n",
       "26  0.388415  0.856338  0.340321\n",
       "27  0.399481  0.772169  0.494135\n",
       "28  0.355941  0.877331  0.321863\n",
       "29  0.399377  0.851949  0.338644\n",
       "30  0.312348  0.879989  0.357853"
      ]
     },
     "execution_count": 79,
     "metadata": {},
     "output_type": "execute_result"
    }
   ],
   "source": [
    "df= pd.DataFrame(normalized, columns = ['bs4', 'Selenium', 'Scrapy'])\n",
    "df"
   ]
  },
  {
   "cell_type": "code",
   "execution_count": 85,
   "metadata": {},
   "outputs": [
    {
     "data": {
      "text/html": [
       "<style  type=\"text/css\" >\n",
       "#T_932993ff_934b_11eb_9562_3024a9882581row0_col0,#T_932993ff_934b_11eb_9562_3024a9882581row0_col1,#T_932993ff_934b_11eb_9562_3024a9882581row0_col2,#T_932993ff_934b_11eb_9562_3024a9882581row1_col2,#T_932993ff_934b_11eb_9562_3024a9882581row2_col1,#T_932993ff_934b_11eb_9562_3024a9882581row3_col0,#T_932993ff_934b_11eb_9562_3024a9882581row4_col2,#T_932993ff_934b_11eb_9562_3024a9882581row5_col2,#T_932993ff_934b_11eb_9562_3024a9882581row6_col2,#T_932993ff_934b_11eb_9562_3024a9882581row7_col0{\n",
       "            background-color:  #40004b;\n",
       "            color:  #f1f1f1;\n",
       "        }#T_932993ff_934b_11eb_9562_3024a9882581row1_col0{\n",
       "            background-color:  #44034f;\n",
       "            color:  #f1f1f1;\n",
       "        }#T_932993ff_934b_11eb_9562_3024a9882581row1_col1,#T_932993ff_934b_11eb_9562_3024a9882581row2_col2,#T_932993ff_934b_11eb_9562_3024a9882581row3_col1,#T_932993ff_934b_11eb_9562_3024a9882581row4_col1,#T_932993ff_934b_11eb_9562_3024a9882581row5_col1,#T_932993ff_934b_11eb_9562_3024a9882581row6_col1,#T_932993ff_934b_11eb_9562_3024a9882581row7_col1{\n",
       "            background-color:  #00441b;\n",
       "            color:  #f1f1f1;\n",
       "        }#T_932993ff_934b_11eb_9562_3024a9882581row2_col0{\n",
       "            background-color:  #f4eff4;\n",
       "            color:  #000000;\n",
       "        }#T_932993ff_934b_11eb_9562_3024a9882581row3_col2{\n",
       "            background-color:  #6c2379;\n",
       "            color:  #f1f1f1;\n",
       "        }#T_932993ff_934b_11eb_9562_3024a9882581row4_col0{\n",
       "            background-color:  #5e176a;\n",
       "            color:  #f1f1f1;\n",
       "        }#T_932993ff_934b_11eb_9562_3024a9882581row5_col0{\n",
       "            background-color:  #4d0a58;\n",
       "            color:  #f1f1f1;\n",
       "        }#T_932993ff_934b_11eb_9562_3024a9882581row6_col0{\n",
       "            background-color:  #42024d;\n",
       "            color:  #f1f1f1;\n",
       "        }#T_932993ff_934b_11eb_9562_3024a9882581row7_col2{\n",
       "            background-color:  #7c368a;\n",
       "            color:  #f1f1f1;\n",
       "        }</style><table id=\"T_932993ff_934b_11eb_9562_3024a9882581\" ><thead>    <tr>        <th class=\"blank level0\" ></th>        <th class=\"col_heading level0 col0\" >bs4</th>        <th class=\"col_heading level0 col1\" >Selenium</th>        <th class=\"col_heading level0 col2\" >Scrapy</th>    </tr></thead><tbody>\n",
       "                <tr>\n",
       "                        <th id=\"T_932993ff_934b_11eb_9562_3024a9882581level0_row0\" class=\"row_heading level0 row0\" >count</th>\n",
       "                        <td id=\"T_932993ff_934b_11eb_9562_3024a9882581row0_col0\" class=\"data row0 col0\" >31.000000</td>\n",
       "                        <td id=\"T_932993ff_934b_11eb_9562_3024a9882581row0_col1\" class=\"data row0 col1\" >31.000000</td>\n",
       "                        <td id=\"T_932993ff_934b_11eb_9562_3024a9882581row0_col2\" class=\"data row0 col2\" >31.000000</td>\n",
       "            </tr>\n",
       "            <tr>\n",
       "                        <th id=\"T_932993ff_934b_11eb_9562_3024a9882581level0_row1\" class=\"row_heading level0 row1\" >mean</th>\n",
       "                        <td id=\"T_932993ff_934b_11eb_9562_3024a9882581row1_col0\" class=\"data row1 col0\" >0.347069</td>\n",
       "                        <td id=\"T_932993ff_934b_11eb_9562_3024a9882581row1_col1\" class=\"data row1 col1\" >0.866445</td>\n",
       "                        <td id=\"T_932993ff_934b_11eb_9562_3024a9882581row1_col2\" class=\"data row1 col2\" >0.341841</td>\n",
       "            </tr>\n",
       "            <tr>\n",
       "                        <th id=\"T_932993ff_934b_11eb_9562_3024a9882581level0_row2\" class=\"row_heading level0 row2\" >std</th>\n",
       "                        <td id=\"T_932993ff_934b_11eb_9562_3024a9882581row2_col0\" class=\"data row2 col0\" >0.061294</td>\n",
       "                        <td id=\"T_932993ff_934b_11eb_9562_3024a9882581row2_col1\" class=\"data row2 col1\" >0.041348</td>\n",
       "                        <td id=\"T_932993ff_934b_11eb_9562_3024a9882581row2_col2\" class=\"data row2 col2\" >0.083022</td>\n",
       "            </tr>\n",
       "            <tr>\n",
       "                        <th id=\"T_932993ff_934b_11eb_9562_3024a9882581level0_row3\" class=\"row_heading level0 row3\" >min</th>\n",
       "                        <td id=\"T_932993ff_934b_11eb_9562_3024a9882581row3_col0\" class=\"data row3 col0\" >0.088062</td>\n",
       "                        <td id=\"T_932993ff_934b_11eb_9562_3024a9882581row3_col1\" class=\"data row3 col1\" >0.772169</td>\n",
       "                        <td id=\"T_932993ff_934b_11eb_9562_3024a9882581row3_col2\" class=\"data row3 col2\" >0.145737</td>\n",
       "            </tr>\n",
       "            <tr>\n",
       "                        <th id=\"T_932993ff_934b_11eb_9562_3024a9882581level0_row4\" class=\"row_heading level0 row4\" >25%</th>\n",
       "                        <td id=\"T_932993ff_934b_11eb_9562_3024a9882581row4_col0\" class=\"data row4 col0\" >0.324614</td>\n",
       "                        <td id=\"T_932993ff_934b_11eb_9562_3024a9882581row4_col1\" class=\"data row4 col1\" >0.848742</td>\n",
       "                        <td id=\"T_932993ff_934b_11eb_9562_3024a9882581row4_col2\" class=\"data row4 col2\" >0.293599</td>\n",
       "            </tr>\n",
       "            <tr>\n",
       "                        <th id=\"T_932993ff_934b_11eb_9562_3024a9882581level0_row5\" class=\"row_heading level0 row5\" >50%</th>\n",
       "                        <td id=\"T_932993ff_934b_11eb_9562_3024a9882581row5_col0\" class=\"data row5 col0\" >0.355941</td>\n",
       "                        <td id=\"T_932993ff_934b_11eb_9562_3024a9882581row5_col1\" class=\"data row5 col1\" >0.871249</td>\n",
       "                        <td id=\"T_932993ff_934b_11eb_9562_3024a9882581row5_col2\" class=\"data row5 col2\" >0.343392</td>\n",
       "            </tr>\n",
       "            <tr>\n",
       "                        <th id=\"T_932993ff_934b_11eb_9562_3024a9882581level0_row6\" class=\"row_heading level0 row6\" >75%</th>\n",
       "                        <td id=\"T_932993ff_934b_11eb_9562_3024a9882581row6_col0\" class=\"data row6 col0\" >0.377942</td>\n",
       "                        <td id=\"T_932993ff_934b_11eb_9562_3024a9882581row6_col1\" class=\"data row6 col1\" >0.889183</td>\n",
       "                        <td id=\"T_932993ff_934b_11eb_9562_3024a9882581row6_col2\" class=\"data row6 col2\" >0.375509</td>\n",
       "            </tr>\n",
       "            <tr>\n",
       "                        <th id=\"T_932993ff_934b_11eb_9562_3024a9882581level0_row7\" class=\"row_heading level0 row7\" >max</th>\n",
       "                        <td id=\"T_932993ff_934b_11eb_9562_3024a9882581row7_col0\" class=\"data row7 col0\" >0.460569</td>\n",
       "                        <td id=\"T_932993ff_934b_11eb_9562_3024a9882581row7_col1\" class=\"data row7 col1\" >0.985396</td>\n",
       "                        <td id=\"T_932993ff_934b_11eb_9562_3024a9882581row7_col2\" class=\"data row7 col2\" >0.522676</td>\n",
       "            </tr>\n",
       "    </tbody></table>"
      ],
      "text/plain": [
       "<pandas.io.formats.style.Styler at 0x2ba93f680a0>"
      ]
     },
     "execution_count": 85,
     "metadata": {},
     "output_type": "execute_result"
    }
   ],
   "source": [
    "df.describe().style.background_gradient(axis=1,cmap='PRGn')"
   ]
  },
  {
   "cell_type": "code",
   "execution_count": 105,
   "metadata": {
    "scrolled": false
   },
   "outputs": [
    {
     "data": {
      "image/png": "[encoded data removed]",
      "text/plain": [
       "<Figure size 640x480 with 1 Axes>"
      ]
     },
     "metadata": {},
     "output_type": "display_data"
    }
   ],
   "source": [
    "sns.histplot(data=df, bins=15, stat='density', kde=True);"
   ]
  },
  {
   "cell_type": "code",
   "execution_count": null,
   "metadata": {},
   "outputs": [],
   "source": []
  },
  {
   "cell_type": "markdown",
   "metadata": {},
   "source": [
    "# Pandas\n",
    "\n",
    "<img src=\"https://upload.wikimedia.org/wikipedia/commons/thumb/e/ed/Pandas_logo.svg/300px-Pandas_logo.svg.png \"\n",
    "     width=\"200\"\n",
    "     alt=\"bs4!\"\n",
    "     style=\"float: left; margin-center: 10px;\">"
   ]
  },
  {
   "cell_type": "markdown",
   "metadata": {},
   "source": [
    "## from website"
   ]
  },
  {
   "cell_type": "code",
   "execution_count": 2,
   "metadata": {},
   "outputs": [
    {
     "ename": "ValueError",
     "evalue": "No tables found",
     "output_type": "error",
     "traceback": [
      "\u001b[1;31m---------------------------------------------------------------------------\u001b[0m",
      "\u001b[1;31mValueError\u001b[0m                                Traceback (most recent call last)",
      "\u001b[1;32m<ipython-input-2-d90616363c25>\u001b[0m in \u001b[0;36m<module>\u001b[1;34m\u001b[0m\n\u001b[1;32m----> 1\u001b[1;33m \u001b[0mpd\u001b[0m\u001b[1;33m.\u001b[0m\u001b[0mread_html\u001b[0m\u001b[1;33m(\u001b[0m\u001b[1;34m'http://books.toscrape.com/'\u001b[0m\u001b[1;33m)\u001b[0m\u001b[1;33m\u001b[0m\u001b[1;33m\u001b[0m\u001b[0m\n\u001b[0m",
      "\u001b[1;32m~\\anaconda3\\envs\\learn-env\\lib\\site-packages\\pandas\\util\\_decorators.py\u001b[0m in \u001b[0;36mwrapper\u001b[1;34m(*args, **kwargs)\u001b[0m\n\u001b[0;32m    294\u001b[0m                 )\n\u001b[0;32m    295\u001b[0m                 \u001b[0mwarnings\u001b[0m\u001b[1;33m.\u001b[0m\u001b[0mwarn\u001b[0m\u001b[1;33m(\u001b[0m\u001b[0mmsg\u001b[0m\u001b[1;33m,\u001b[0m \u001b[0mFutureWarning\u001b[0m\u001b[1;33m,\u001b[0m \u001b[0mstacklevel\u001b[0m\u001b[1;33m=\u001b[0m\u001b[0mstacklevel\u001b[0m\u001b[1;33m)\u001b[0m\u001b[1;33m\u001b[0m\u001b[1;33m\u001b[0m\u001b[0m\n\u001b[1;32m--> 296\u001b[1;33m             \u001b[1;32mreturn\u001b[0m \u001b[0mfunc\u001b[0m\u001b[1;33m(\u001b[0m\u001b[1;33m*\u001b[0m\u001b[0margs\u001b[0m\u001b[1;33m,\u001b[0m \u001b[1;33m**\u001b[0m\u001b[0mkwargs\u001b[0m\u001b[1;33m)\u001b[0m\u001b[1;33m\u001b[0m\u001b[1;33m\u001b[0m\u001b[0m\n\u001b[0m\u001b[0;32m    297\u001b[0m \u001b[1;33m\u001b[0m\u001b[0m\n\u001b[0;32m    298\u001b[0m         \u001b[1;32mreturn\u001b[0m \u001b[0mwrapper\u001b[0m\u001b[1;33m\u001b[0m\u001b[1;33m\u001b[0m\u001b[0m\n",
      "\u001b[1;32m~\\anaconda3\\envs\\learn-env\\lib\\site-packages\\pandas\\io\\html.py\u001b[0m in \u001b[0;36mread_html\u001b[1;34m(io, match, flavor, header, index_col, skiprows, attrs, parse_dates, thousands, encoding, decimal, converters, na_values, keep_default_na, displayed_only)\u001b[0m\n\u001b[0;32m   1084\u001b[0m         )\n\u001b[0;32m   1085\u001b[0m     \u001b[0mvalidate_header_arg\u001b[0m\u001b[1;33m(\u001b[0m\u001b[0mheader\u001b[0m\u001b[1;33m)\u001b[0m\u001b[1;33m\u001b[0m\u001b[1;33m\u001b[0m\u001b[0m\n\u001b[1;32m-> 1086\u001b[1;33m     return _parse(\n\u001b[0m\u001b[0;32m   1087\u001b[0m         \u001b[0mflavor\u001b[0m\u001b[1;33m=\u001b[0m\u001b[0mflavor\u001b[0m\u001b[1;33m,\u001b[0m\u001b[1;33m\u001b[0m\u001b[1;33m\u001b[0m\u001b[0m\n\u001b[0;32m   1088\u001b[0m         \u001b[0mio\u001b[0m\u001b[1;33m=\u001b[0m\u001b[0mio\u001b[0m\u001b[1;33m,\u001b[0m\u001b[1;33m\u001b[0m\u001b[1;33m\u001b[0m\u001b[0m\n",
      "\u001b[1;32m~\\anaconda3\\envs\\learn-env\\lib\\site-packages\\pandas\\io\\html.py\u001b[0m in \u001b[0;36m_parse\u001b[1;34m(flavor, io, match, attrs, encoding, displayed_only, **kwargs)\u001b[0m\n\u001b[0;32m    915\u001b[0m             \u001b[1;32mbreak\u001b[0m\u001b[1;33m\u001b[0m\u001b[1;33m\u001b[0m\u001b[0m\n\u001b[0;32m    916\u001b[0m     \u001b[1;32melse\u001b[0m\u001b[1;33m:\u001b[0m\u001b[1;33m\u001b[0m\u001b[1;33m\u001b[0m\u001b[0m\n\u001b[1;32m--> 917\u001b[1;33m         \u001b[1;32mraise\u001b[0m \u001b[0mretained\u001b[0m\u001b[1;33m\u001b[0m\u001b[1;33m\u001b[0m\u001b[0m\n\u001b[0m\u001b[0;32m    918\u001b[0m \u001b[1;33m\u001b[0m\u001b[0m\n\u001b[0;32m    919\u001b[0m     \u001b[0mret\u001b[0m \u001b[1;33m=\u001b[0m \u001b[1;33m[\u001b[0m\u001b[1;33m]\u001b[0m\u001b[1;33m\u001b[0m\u001b[1;33m\u001b[0m\u001b[0m\n",
      "\u001b[1;32m~\\anaconda3\\envs\\learn-env\\lib\\site-packages\\pandas\\io\\html.py\u001b[0m in \u001b[0;36m_parse\u001b[1;34m(flavor, io, match, attrs, encoding, displayed_only, **kwargs)\u001b[0m\n\u001b[0;32m    896\u001b[0m \u001b[1;33m\u001b[0m\u001b[0m\n\u001b[0;32m    897\u001b[0m         \u001b[1;32mtry\u001b[0m\u001b[1;33m:\u001b[0m\u001b[1;33m\u001b[0m\u001b[1;33m\u001b[0m\u001b[0m\n\u001b[1;32m--> 898\u001b[1;33m             \u001b[0mtables\u001b[0m \u001b[1;33m=\u001b[0m \u001b[0mp\u001b[0m\u001b[1;33m.\u001b[0m\u001b[0mparse_tables\u001b[0m\u001b[1;33m(\u001b[0m\u001b[1;33m)\u001b[0m\u001b[1;33m\u001b[0m\u001b[1;33m\u001b[0m\u001b[0m\n\u001b[0m\u001b[0;32m    899\u001b[0m         \u001b[1;32mexcept\u001b[0m \u001b[0mValueError\u001b[0m \u001b[1;32mas\u001b[0m \u001b[0mcaught\u001b[0m\u001b[1;33m:\u001b[0m\u001b[1;33m\u001b[0m\u001b[1;33m\u001b[0m\u001b[0m\n\u001b[0;32m    900\u001b[0m             \u001b[1;31m# if `io` is an io-like object, check if it's seekable\u001b[0m\u001b[1;33m\u001b[0m\u001b[1;33m\u001b[0m\u001b[1;33m\u001b[0m\u001b[0m\n",
      "\u001b[1;32m~\\anaconda3\\envs\\learn-env\\lib\\site-packages\\pandas\\io\\html.py\u001b[0m in \u001b[0;36mparse_tables\u001b[1;34m(self)\u001b[0m\n\u001b[0;32m    215\u001b[0m         \u001b[0mlist\u001b[0m \u001b[0mof\u001b[0m \u001b[0mparsed\u001b[0m \u001b[1;33m(\u001b[0m\u001b[0mheader\u001b[0m\u001b[1;33m,\u001b[0m \u001b[0mbody\u001b[0m\u001b[1;33m,\u001b[0m \u001b[0mfooter\u001b[0m\u001b[1;33m)\u001b[0m \u001b[0mtuples\u001b[0m \u001b[1;32mfrom\u001b[0m \u001b[0mtables\u001b[0m\u001b[1;33m.\u001b[0m\u001b[1;33m\u001b[0m\u001b[1;33m\u001b[0m\u001b[0m\n\u001b[0;32m    216\u001b[0m         \"\"\"\n\u001b[1;32m--> 217\u001b[1;33m         \u001b[0mtables\u001b[0m \u001b[1;33m=\u001b[0m \u001b[0mself\u001b[0m\u001b[1;33m.\u001b[0m\u001b[0m_parse_tables\u001b[0m\u001b[1;33m(\u001b[0m\u001b[0mself\u001b[0m\u001b[1;33m.\u001b[0m\u001b[0m_build_doc\u001b[0m\u001b[1;33m(\u001b[0m\u001b[1;33m)\u001b[0m\u001b[1;33m,\u001b[0m \u001b[0mself\u001b[0m\u001b[1;33m.\u001b[0m\u001b[0mmatch\u001b[0m\u001b[1;33m,\u001b[0m \u001b[0mself\u001b[0m\u001b[1;33m.\u001b[0m\u001b[0mattrs\u001b[0m\u001b[1;33m)\u001b[0m\u001b[1;33m\u001b[0m\u001b[1;33m\u001b[0m\u001b[0m\n\u001b[0m\u001b[0;32m    218\u001b[0m         \u001b[1;32mreturn\u001b[0m \u001b[1;33m(\u001b[0m\u001b[0mself\u001b[0m\u001b[1;33m.\u001b[0m\u001b[0m_parse_thead_tbody_tfoot\u001b[0m\u001b[1;33m(\u001b[0m\u001b[0mtable\u001b[0m\u001b[1;33m)\u001b[0m \u001b[1;32mfor\u001b[0m \u001b[0mtable\u001b[0m \u001b[1;32min\u001b[0m \u001b[0mtables\u001b[0m\u001b[1;33m)\u001b[0m\u001b[1;33m\u001b[0m\u001b[1;33m\u001b[0m\u001b[0m\n\u001b[0;32m    219\u001b[0m \u001b[1;33m\u001b[0m\u001b[0m\n",
      "\u001b[1;32m~\\anaconda3\\envs\\learn-env\\lib\\site-packages\\pandas\\io\\html.py\u001b[0m in \u001b[0;36m_parse_tables\u001b[1;34m(self, doc, match, attrs)\u001b[0m\n\u001b[0;32m    545\u001b[0m \u001b[1;33m\u001b[0m\u001b[0m\n\u001b[0;32m    546\u001b[0m         \u001b[1;32mif\u001b[0m \u001b[1;32mnot\u001b[0m \u001b[0mtables\u001b[0m\u001b[1;33m:\u001b[0m\u001b[1;33m\u001b[0m\u001b[1;33m\u001b[0m\u001b[0m\n\u001b[1;32m--> 547\u001b[1;33m             \u001b[1;32mraise\u001b[0m \u001b[0mValueError\u001b[0m\u001b[1;33m(\u001b[0m\u001b[1;34m\"No tables found\"\u001b[0m\u001b[1;33m)\u001b[0m\u001b[1;33m\u001b[0m\u001b[1;33m\u001b[0m\u001b[0m\n\u001b[0m\u001b[0;32m    548\u001b[0m \u001b[1;33m\u001b[0m\u001b[0m\n\u001b[0;32m    549\u001b[0m         \u001b[0mresult\u001b[0m \u001b[1;33m=\u001b[0m \u001b[1;33m[\u001b[0m\u001b[1;33m]\u001b[0m\u001b[1;33m\u001b[0m\u001b[1;33m\u001b[0m\u001b[0m\n",
      "\u001b[1;31mValueError\u001b[0m: No tables found"
     ]
    }
   ],
   "source": [
    "pd.read_html('http://books.toscrape.com/')"
   ]
  },
  {
   "cell_type": "markdown",
   "metadata": {},
   "source": [
    "## from clipboard"
   ]
  },
  {
   "cell_type": "code",
   "execution_count": 5,
   "metadata": {},
   "outputs": [
    {
     "data": {
      "text/html": [
       "<div>\n",
       "<style scoped>\n",
       "    .dataframe tbody tr th:only-of-type {\n",
       "        vertical-align: middle;\n",
       "    }\n",
       "\n",
       "    .dataframe tbody tr th {\n",
       "        vertical-align: top;\n",
       "    }\n",
       "\n",
       "    .dataframe thead th {\n",
       "        text-align: right;\n",
       "    }\n",
       "</style>\n",
       "<table border=\"1\" class=\"dataframe\">\n",
       "  <thead>\n",
       "    <tr style=\"text-align: right;\">\n",
       "      <th></th>\n",
       "      <th>A</th>\n",
       "      <th>Light</th>\n",
       "      <th>in</th>\n",
       "      <th>the</th>\n",
       "      <th>Attic</th>\n",
       "    </tr>\n",
       "  </thead>\n",
       "  <tbody>\n",
       "    <tr>\n",
       "      <th>0</th>\n",
       "      <td>A</td>\n",
       "      <td>Light</td>\n",
       "      <td>in</td>\n",
       "      <td>the</td>\n",
       "      <td>...</td>\n",
       "    </tr>\n",
       "    <tr>\n",
       "      <th>1</th>\n",
       "      <td>£51.77</td>\n",
       "      <td>None</td>\n",
       "      <td>None</td>\n",
       "      <td>None</td>\n",
       "      <td>None</td>\n",
       "    </tr>\n",
       "    <tr>\n",
       "      <th>2</th>\n",
       "      <td>In</td>\n",
       "      <td>stock</td>\n",
       "      <td>None</td>\n",
       "      <td>None</td>\n",
       "      <td>None</td>\n",
       "    </tr>\n",
       "    <tr>\n",
       "      <th>3</th>\n",
       "      <td>Tipping</td>\n",
       "      <td>the</td>\n",
       "      <td>Velvet</td>\n",
       "      <td>None</td>\n",
       "      <td>None</td>\n",
       "    </tr>\n",
       "    <tr>\n",
       "      <th>4</th>\n",
       "      <td>Tipping</td>\n",
       "      <td>the</td>\n",
       "      <td>Velvet</td>\n",
       "      <td>None</td>\n",
       "      <td>None</td>\n",
       "    </tr>\n",
       "    <tr>\n",
       "      <th>5</th>\n",
       "      <td>£53.74</td>\n",
       "      <td>None</td>\n",
       "      <td>None</td>\n",
       "      <td>None</td>\n",
       "      <td>None</td>\n",
       "    </tr>\n",
       "    <tr>\n",
       "      <th>6</th>\n",
       "      <td>In</td>\n",
       "      <td>stock</td>\n",
       "      <td>None</td>\n",
       "      <td>None</td>\n",
       "      <td>None</td>\n",
       "    </tr>\n",
       "    <tr>\n",
       "      <th>7</th>\n",
       "      <td>Soumission</td>\n",
       "      <td>None</td>\n",
       "      <td>None</td>\n",
       "      <td>None</td>\n",
       "      <td>None</td>\n",
       "    </tr>\n",
       "    <tr>\n",
       "      <th>8</th>\n",
       "      <td>Soumission</td>\n",
       "      <td>None</td>\n",
       "      <td>None</td>\n",
       "      <td>None</td>\n",
       "      <td>None</td>\n",
       "    </tr>\n",
       "    <tr>\n",
       "      <th>9</th>\n",
       "      <td>£50.10</td>\n",
       "      <td>None</td>\n",
       "      <td>None</td>\n",
       "      <td>None</td>\n",
       "      <td>None</td>\n",
       "    </tr>\n",
       "    <tr>\n",
       "      <th>10</th>\n",
       "      <td>In</td>\n",
       "      <td>stock</td>\n",
       "      <td>None</td>\n",
       "      <td>None</td>\n",
       "      <td>None</td>\n",
       "    </tr>\n",
       "    <tr>\n",
       "      <th>11</th>\n",
       "      <td>Sharp</td>\n",
       "      <td>Objects</td>\n",
       "      <td>None</td>\n",
       "      <td>None</td>\n",
       "      <td>None</td>\n",
       "    </tr>\n",
       "    <tr>\n",
       "      <th>12</th>\n",
       "      <td>Sharp</td>\n",
       "      <td>Objects</td>\n",
       "      <td>None</td>\n",
       "      <td>None</td>\n",
       "      <td>None</td>\n",
       "    </tr>\n",
       "    <tr>\n",
       "      <th>13</th>\n",
       "      <td>£47.82</td>\n",
       "      <td>None</td>\n",
       "      <td>None</td>\n",
       "      <td>None</td>\n",
       "      <td>None</td>\n",
       "    </tr>\n",
       "    <tr>\n",
       "      <th>14</th>\n",
       "      <td>In</td>\n",
       "      <td>stock</td>\n",
       "      <td>None</td>\n",
       "      <td>None</td>\n",
       "      <td>None</td>\n",
       "    </tr>\n",
       "  </tbody>\n",
       "</table>\n",
       "</div>"
      ],
      "text/plain": [
       "             A    Light      in   the Attic\n",
       "0            A    Light      in   the   ...\n",
       "1       £51.77     None    None  None  None\n",
       "2           In    stock    None  None  None\n",
       "3      Tipping      the  Velvet  None  None\n",
       "4      Tipping      the  Velvet  None  None\n",
       "5       £53.74     None    None  None  None\n",
       "6           In    stock    None  None  None\n",
       "7   Soumission     None    None  None  None\n",
       "8   Soumission     None    None  None  None\n",
       "9       £50.10     None    None  None  None\n",
       "10          In    stock    None  None  None\n",
       "11       Sharp  Objects    None  None  None\n",
       "12       Sharp  Objects    None  None  None\n",
       "13      £47.82     None    None  None  None\n",
       "14          In    stock    None  None  None"
      ]
     },
     "execution_count": 5,
     "metadata": {},
     "output_type": "execute_result"
    }
   ],
   "source": [
    "pd.read_clipboard()"
   ]
  },
  {
   "cell_type": "markdown",
   "metadata": {},
   "source": [
    "# Scrapy Framework\n",
    "\n",
    "<img src=\"https://github.com/scrapy/scrapy/blob/2.4/artwork/scrapy-logo.jpg?raw=true \"\n",
    "     width=\"200\"\n",
    "     alt=\"bs4!\"\n",
    "     style=\"float: left; margin-center: 10px;\">"
   ]
  },
  {
   "cell_type": "markdown",
   "metadata": {},
   "source": [
    "## resources "
   ]
  },
  {
   "cell_type": "markdown",
   "metadata": {},
   "source": [
    "target website:\n",
    "- http://books.toscrape.com/\n",
    "\n",
    "In Jupyter Notebook:\n",
    "- https://www.jitsejan.com/using-scrapy-in-jupyter-notebook.html\n",
    "- https://www.upgrad.com/blog/use-scrapy-on-python-notebook/\n",
    "- http://discuss.codingblocks.com/t/how-do-i-run-scrapy-class-from-jupyter-notebook/57689\n",
    "- https://stackoverflow.com/questions/63200073/how-does-scrapy-works-on-jupyter-notebook\n",
    "- https://www.mikulskibartosz.name/how-to-scrape-a-single-web-page-using-scrapy-in-jupyter-notebook/\n",
    "\n",
    "Using Scrapy framework:\n",
    "- https://www.youtube.com/watch?v=s4jtkzHhLzY\n",
    "- https://towardsdatascience.com/a-minimalist-end-to-end-scrapy-tutorial-part-ii-b917509b73f7\n",
    "- https://www.codementor.io/@mgalarny/using-scrapy-to-build-your-own-dataset-cz24hsbp5\n",
    "- https://www.analyticsvidhya.com/blog/2017/07/web-scraping-in-python-using-scrapy/\n",
    "\n",
    "Scraping:\n",
    "- https://github.com/HrantDavtyan/Data_Scraping\n",
    "\n",
    "Environment management\n",
    "- https://towardsdatascience.com/environment-management-with-conda-python-2-3-b9961a8a5097"
   ]
  },
  {
   "cell_type": "markdown",
   "metadata": {},
   "source": [
    "## packages"
   ]
  },
  {
   "cell_type": "code",
   "execution_count": 2,
   "metadata": {},
   "outputs": [],
   "source": [
    "import scrapy\n",
    "import requests\n",
    "from scrapy.http import TextResponse\n",
    "import re\n",
    "from scrapy.crawler import CrawlerProcess\n",
    "from scrapy.crawler import CrawlerRunner\n",
    "from crochet import setup\n",
    "setup()"
   ]
  },
  {
   "cell_type": "markdown",
   "metadata": {},
   "source": [
    "## init"
   ]
  },
  {
   "cell_type": "code",
   "execution_count": 38,
   "metadata": {},
   "outputs": [],
   "source": [
    "initialize_scrapy = False"
   ]
  },
  {
   "cell_type": "markdown",
   "metadata": {},
   "source": [
    "## exploration"
   ]
  },
  {
   "cell_type": "code",
   "execution_count": 46,
   "metadata": {},
   "outputs": [
    {
     "name": "stderr",
     "output_type": "stream",
     "text": [
      "2021-03-31 20:05:58 [urllib3.connectionpool] DEBUG: Starting new HTTP connection (1): books.toscrape.com:80\n",
      "2021-03-31 20:05:59 [urllib3.connectionpool] DEBUG: http://books.toscrape.com:80 \"GET / HTTP/1.1\" 200 None\n"
     ]
    }
   ],
   "source": [
    "r = requests.get('http://books.toscrape.com/')\n",
    "response = TextResponse(r.url, body=r.text, encoding='utf-8')"
   ]
  },
  {
   "cell_type": "code",
   "execution_count": 55,
   "metadata": {
    "scrolled": false
   },
   "outputs": [
    {
     "data": {
      "text/plain": [
       "['A Light in the Attic',\n",
       " 'Tipping the Velvet',\n",
       " 'Soumission',\n",
       " 'Sharp Objects',\n",
       " 'Sapiens: A Brief History of Humankind',\n",
       " 'The Requiem Red',\n",
       " 'The Dirty Little Secrets of Getting Your Dream Job',\n",
       " 'The Coming Woman: A Novel Based on the Life of the Infamous Feminist, Victoria Woodhull',\n",
       " 'The Boys in the Boat: Nine Americans and Their Epic Quest for Gold at the 1936 Berlin Olympics',\n",
       " 'The Black Maria',\n",
       " 'Starving Hearts (Triangular Trade Trilogy, #1)',\n",
       " \"Shakespeare's Sonnets\",\n",
       " 'Set Me Free',\n",
       " \"Scott Pilgrim's Precious Little Life (Scott Pilgrim #1)\",\n",
       " 'Rip it Up and Start Again',\n",
       " 'Our Band Could Be Your Life: Scenes from the American Indie Underground, 1981-1991',\n",
       " 'Olio',\n",
       " 'Mesaerion: The Best Science Fiction Stories 1800-1849',\n",
       " 'Libertarianism for Beginners',\n",
       " \"It's Only the Himalayas\"]"
      ]
     },
     "execution_count": 55,
     "metadata": {},
     "output_type": "execute_result"
    }
   ],
   "source": [
    "response.css(\"h3>a::attr(title)\").extract()"
   ]
  },
  {
   "cell_type": "code",
   "execution_count": 74,
   "metadata": {},
   "outputs": [
    {
     "data": {
      "text/plain": [
       "['51.77',\n",
       " '53.74',\n",
       " '50.10',\n",
       " '47.82',\n",
       " '54.23',\n",
       " '22.65',\n",
       " '33.34',\n",
       " '17.93',\n",
       " '22.60',\n",
       " '52.15',\n",
       " '13.99',\n",
       " '20.66',\n",
       " '17.46',\n",
       " '52.29',\n",
       " '35.02',\n",
       " '57.25',\n",
       " '23.88',\n",
       " '37.59',\n",
       " '51.33',\n",
       " '45.17']"
      ]
     },
     "execution_count": 74,
     "metadata": {},
     "output_type": "execute_result"
    }
   ],
   "source": [
    "[x[2:] for x in response.css(\"div[class='product_price']>p[class='price_color']::text\").extract()]"
   ]
  },
  {
   "cell_type": "code",
   "execution_count": 88,
   "metadata": {},
   "outputs": [
    {
     "data": {
      "text/plain": [
       "['Instock',\n",
       " 'Instock',\n",
       " 'Instock',\n",
       " 'Instock',\n",
       " 'Instock',\n",
       " 'Instock',\n",
       " 'Instock',\n",
       " 'Instock',\n",
       " 'Instock',\n",
       " 'Instock',\n",
       " 'Instock',\n",
       " 'Instock',\n",
       " 'Instock',\n",
       " 'Instock',\n",
       " 'Instock',\n",
       " 'Instock',\n",
       " 'Instock',\n",
       " 'Instock',\n",
       " 'Instock',\n",
       " 'Instock']"
      ]
     },
     "execution_count": 88,
     "metadata": {},
     "output_type": "execute_result"
    }
   ],
   "source": [
    "[x.split('\\n')[3].replace(\" \",\"\") for x in response.css(\"div[class='product_price']>p[class='instock availability']\").extract()]"
   ]
  },
  {
   "cell_type": "markdown",
   "metadata": {},
   "source": [
    "## spider WIP"
   ]
  },
  {
   "cell_type": "code",
   "execution_count": 3,
   "metadata": {},
   "outputs": [],
   "source": [
    "class BookSpider(scrapy.Spider):\n",
    "    name = 'Books'\n",
    "    start_urls = ['http://books.toscrape.com/catalogue/page-1.html']\n",
    "\n",
    "    def parse(self, response):\n",
    "        title = response.css(\"h3>a::attr(title)\").extract()\n",
    "        price = [\n",
    "            x[2:] for x in response.css(\n",
    "                \"div[class='product_price']>p[class='price_color']::text\").\n",
    "            extract()\n",
    "        ]\n",
    "        avail = [\n",
    "            x.split('\\n')[3].replace(\" \", \"\") for x in response.css(\n",
    "                \"div[class='product_price']>p[class='instock availability']\").\n",
    "            extract()\n",
    "        ]\n",
    "        df_sc_temp = pd.DataFrame([title, price,\n",
    "                                        avail]).transpose()\n",
    "        df_sc_temp.columns = ['Title', 'Price_(pounds)', 'Availability']\n",
    "        yield df_sc_temp"
   ]
  },
  {
   "cell_type": "code",
   "execution_count": 7,
   "metadata": {},
   "outputs": [
    {
     "name": "stderr",
     "output_type": "stream",
     "text": [
      "2021-03-31 23:37:36 [scrapy.crawler] INFO: Overridden settings:\n",
      "{}\n",
      "2021-03-31 23:37:36 [scrapy.extensions.telnet] INFO: Telnet Password: 8ef382417199ce02\n",
      "2021-03-31 23:37:36 [scrapy.middleware] INFO: Enabled extensions:\n",
      "['scrapy.extensions.corestats.CoreStats',\n",
      " 'scrapy.extensions.telnet.TelnetConsole',\n",
      " 'scrapy.extensions.feedexport.FeedExporter',\n",
      " 'scrapy.extensions.logstats.LogStats']\n",
      "2021-03-31 23:37:36 [scrapy.middleware] INFO: Enabled downloader middlewares:\n",
      "['scrapy.downloadermiddlewares.httpauth.HttpAuthMiddleware',\n",
      " 'scrapy.downloadermiddlewares.downloadtimeout.DownloadTimeoutMiddleware',\n",
      " 'scrapy.downloadermiddlewares.defaultheaders.DefaultHeadersMiddleware',\n",
      " 'scrapy.downloadermiddlewares.useragent.UserAgentMiddleware',\n",
      " 'scrapy.downloadermiddlewares.retry.RetryMiddleware',\n",
      " 'scrapy.downloadermiddlewares.redirect.MetaRefreshMiddleware',\n",
      " 'scrapy.downloadermiddlewares.httpcompression.HttpCompressionMiddleware',\n",
      " 'scrapy.downloadermiddlewares.redirect.RedirectMiddleware',\n",
      " 'scrapy.downloadermiddlewares.cookies.CookiesMiddleware',\n",
      " 'scrapy.downloadermiddlewares.httpproxy.HttpProxyMiddleware',\n",
      " 'scrapy.downloadermiddlewares.stats.DownloaderStats']\n",
      "2021-03-31 23:37:36 [scrapy.middleware] INFO: Enabled spider middlewares:\n",
      "['scrapy.spidermiddlewares.httperror.HttpErrorMiddleware',\n",
      " 'scrapy.spidermiddlewares.offsite.OffsiteMiddleware',\n",
      " 'scrapy.spidermiddlewares.referer.RefererMiddleware',\n",
      " 'scrapy.spidermiddlewares.urllength.UrlLengthMiddleware',\n",
      " 'scrapy.spidermiddlewares.depth.DepthMiddleware']\n",
      "2021-03-31 23:37:36 [scrapy.middleware] INFO: Enabled item pipelines:\n",
      "[]\n",
      "2021-03-31 23:37:36 [scrapy.core.engine] INFO: Spider opened\n",
      "2021-03-31 23:37:36 [scrapy.extensions.logstats] INFO: Crawled 0 pages (at 0 pages/min), scraped 0 items (at 0 items/min)\n",
      "2021-03-31 23:37:36 [scrapy.extensions.telnet] INFO: Telnet console listening on 127.0.0.1:6024\n"
     ]
    }
   ],
   "source": [
    "if __name__ == \"__main__\":   \n",
    "    #initiate process of crawling\n",
    "    runner = CrawlerRunner(settings={\n",
    "      \"FEEDS\": {\"BookSpider.csv\": {'format': 'csv'}, #set output in settings\n",
    "      },\n",
    "    })\n",
    "    d=runner.crawl(BookSpider) # the script will block here until the crawling is finished"
   ]
  },
  {
   "cell_type": "code",
   "execution_count": 4,
   "metadata": {},
   "outputs": [
    {
     "name": "stderr",
     "output_type": "stream",
     "text": [
      "2021-03-31 23:28:50 [scrapy.utils.log] INFO: Scrapy 2.4.1 started (bot: scrapybot)\n",
      "2021-03-31 23:28:50 [scrapy.utils.log] INFO: Versions: lxml 4.6.1.0, libxml2 2.9.10, cssselect 1.1.0, parsel 1.6.0, w3lib 1.22.0, Twisted 21.2.0, Python 3.8.5 | packaged by conda-forge | (default, Sep 24 2020, 16:20:24) [MSC v.1916 64 bit (AMD64)], pyOpenSSL 19.1.0 (OpenSSL 1.1.1j  16 Feb 2021), cryptography 3.1.1, Platform Windows-10-10.0.19041-SP0\n",
      "2021-03-31 23:28:50 [scrapy.utils.log] DEBUG: Using reactor: twisted.internet.selectreactor.SelectReactor\n",
      "2021-03-31 23:28:50 [scrapy.crawler] INFO: Overridden settings:\n",
      "{}\n",
      "2021-03-31 23:28:50 [scrapy.extensions.telnet] INFO: Telnet Password: cab254b692ce16e4\n",
      "2021-03-31 23:28:50 [scrapy.middleware] INFO: Enabled extensions:\n",
      "['scrapy.extensions.corestats.CoreStats',\n",
      " 'scrapy.extensions.telnet.TelnetConsole',\n",
      " 'scrapy.extensions.logstats.LogStats']\n",
      "2021-03-31 23:28:50 [scrapy.middleware] INFO: Enabled downloader middlewares:\n",
      "['scrapy.downloadermiddlewares.httpauth.HttpAuthMiddleware',\n",
      " 'scrapy.downloadermiddlewares.downloadtimeout.DownloadTimeoutMiddleware',\n",
      " 'scrapy.downloadermiddlewares.defaultheaders.DefaultHeadersMiddleware',\n",
      " 'scrapy.downloadermiddlewares.useragent.UserAgentMiddleware',\n",
      " 'scrapy.downloadermiddlewares.retry.RetryMiddleware',\n",
      " 'scrapy.downloadermiddlewares.redirect.MetaRefreshMiddleware',\n",
      " 'scrapy.downloadermiddlewares.httpcompression.HttpCompressionMiddleware',\n",
      " 'scrapy.downloadermiddlewares.redirect.RedirectMiddleware',\n",
      " 'scrapy.downloadermiddlewares.cookies.CookiesMiddleware',\n",
      " 'scrapy.downloadermiddlewares.httpproxy.HttpProxyMiddleware',\n",
      " 'scrapy.downloadermiddlewares.stats.DownloaderStats']\n",
      "2021-03-31 23:28:50 [scrapy.middleware] INFO: Enabled spider middlewares:\n",
      "['scrapy.spidermiddlewares.httperror.HttpErrorMiddleware',\n",
      " 'scrapy.spidermiddlewares.offsite.OffsiteMiddleware',\n",
      " 'scrapy.spidermiddlewares.referer.RefererMiddleware',\n",
      " 'scrapy.spidermiddlewares.urllength.UrlLengthMiddleware',\n",
      " 'scrapy.spidermiddlewares.depth.DepthMiddleware']\n",
      "2021-03-31 23:28:50 [scrapy.middleware] INFO: Enabled item pipelines:\n",
      "[]\n",
      "2021-03-31 23:28:50 [scrapy.core.engine] INFO: Spider opened\n",
      "2021-03-31 23:28:50 [scrapy.extensions.logstats] INFO: Crawled 0 pages (at 0 pages/min), scraped 0 items (at 0 items/min)\n",
      "2021-03-31 23:28:50 [scrapy.extensions.telnet] INFO: Telnet console listening on 127.0.0.1:6024\n"
     ]
    },
    {
     "ename": "ReactorAlreadyRunning",
     "evalue": "",
     "output_type": "error",
     "traceback": [
      "\u001b[1;31m---------------------------------------------------------------------------\u001b[0m",
      "\u001b[1;31mReactorAlreadyRunning\u001b[0m                     Traceback (most recent call last)",
      "\u001b[1;32m<ipython-input-4-9b6bd4d63161>\u001b[0m in \u001b[0;36m<module>\u001b[1;34m\u001b[0m\n\u001b[0;32m      1\u001b[0m \u001b[0mprocess\u001b[0m \u001b[1;33m=\u001b[0m \u001b[0mCrawlerProcess\u001b[0m\u001b[1;33m(\u001b[0m\u001b[1;33m)\u001b[0m\u001b[1;33m\u001b[0m\u001b[1;33m\u001b[0m\u001b[0m\n\u001b[0;32m      2\u001b[0m \u001b[0mprocess\u001b[0m\u001b[1;33m.\u001b[0m\u001b[0mcrawl\u001b[0m\u001b[1;33m(\u001b[0m\u001b[0mBookSpider\u001b[0m\u001b[1;33m)\u001b[0m\u001b[1;33m\u001b[0m\u001b[1;33m\u001b[0m\u001b[0m\n\u001b[1;32m----> 3\u001b[1;33m \u001b[0mprocess\u001b[0m\u001b[1;33m.\u001b[0m\u001b[0mstart\u001b[0m\u001b[1;33m(\u001b[0m\u001b[1;33m)\u001b[0m\u001b[1;33m\u001b[0m\u001b[1;33m\u001b[0m\u001b[0m\n\u001b[0m",
      "\u001b[1;32m~\\anaconda3\\envs\\learn-env\\lib\\site-packages\\scrapy\\crawler.py\u001b[0m in \u001b[0;36mstart\u001b[1;34m(self, stop_after_crawl)\u001b[0m\n\u001b[0;32m    325\u001b[0m         \u001b[0mtp\u001b[0m\u001b[1;33m.\u001b[0m\u001b[0madjustPoolsize\u001b[0m\u001b[1;33m(\u001b[0m\u001b[0mmaxthreads\u001b[0m\u001b[1;33m=\u001b[0m\u001b[0mself\u001b[0m\u001b[1;33m.\u001b[0m\u001b[0msettings\u001b[0m\u001b[1;33m.\u001b[0m\u001b[0mgetint\u001b[0m\u001b[1;33m(\u001b[0m\u001b[1;34m'REACTOR_THREADPOOL_MAXSIZE'\u001b[0m\u001b[1;33m)\u001b[0m\u001b[1;33m)\u001b[0m\u001b[1;33m\u001b[0m\u001b[1;33m\u001b[0m\u001b[0m\n\u001b[0;32m    326\u001b[0m         \u001b[0mreactor\u001b[0m\u001b[1;33m.\u001b[0m\u001b[0maddSystemEventTrigger\u001b[0m\u001b[1;33m(\u001b[0m\u001b[1;34m'before'\u001b[0m\u001b[1;33m,\u001b[0m \u001b[1;34m'shutdown'\u001b[0m\u001b[1;33m,\u001b[0m \u001b[0mself\u001b[0m\u001b[1;33m.\u001b[0m\u001b[0mstop\u001b[0m\u001b[1;33m)\u001b[0m\u001b[1;33m\u001b[0m\u001b[1;33m\u001b[0m\u001b[0m\n\u001b[1;32m--> 327\u001b[1;33m         \u001b[0mreactor\u001b[0m\u001b[1;33m.\u001b[0m\u001b[0mrun\u001b[0m\u001b[1;33m(\u001b[0m\u001b[0minstallSignalHandlers\u001b[0m\u001b[1;33m=\u001b[0m\u001b[1;32mFalse\u001b[0m\u001b[1;33m)\u001b[0m  \u001b[1;31m# blocking call\u001b[0m\u001b[1;33m\u001b[0m\u001b[1;33m\u001b[0m\u001b[0m\n\u001b[0m\u001b[0;32m    328\u001b[0m \u001b[1;33m\u001b[0m\u001b[0m\n\u001b[0;32m    329\u001b[0m     \u001b[1;32mdef\u001b[0m \u001b[0m_graceful_stop_reactor\u001b[0m\u001b[1;33m(\u001b[0m\u001b[0mself\u001b[0m\u001b[1;33m)\u001b[0m\u001b[1;33m:\u001b[0m\u001b[1;33m\u001b[0m\u001b[1;33m\u001b[0m\u001b[0m\n",
      "\u001b[1;32m~\\anaconda3\\envs\\learn-env\\lib\\site-packages\\twisted\\internet\\base.py\u001b[0m in \u001b[0;36mrun\u001b[1;34m(self, installSignalHandlers)\u001b[0m\n\u001b[0;32m   1420\u001b[0m \u001b[1;33m\u001b[0m\u001b[0m\n\u001b[0;32m   1421\u001b[0m     \u001b[1;32mdef\u001b[0m \u001b[0mrun\u001b[0m\u001b[1;33m(\u001b[0m\u001b[0mself\u001b[0m\u001b[1;33m,\u001b[0m \u001b[0minstallSignalHandlers\u001b[0m\u001b[1;33m:\u001b[0m \u001b[0mbool\u001b[0m \u001b[1;33m=\u001b[0m \u001b[1;32mTrue\u001b[0m\u001b[1;33m)\u001b[0m \u001b[1;33m->\u001b[0m \u001b[1;32mNone\u001b[0m\u001b[1;33m:\u001b[0m\u001b[1;33m\u001b[0m\u001b[1;33m\u001b[0m\u001b[0m\n\u001b[1;32m-> 1422\u001b[1;33m         \u001b[0mself\u001b[0m\u001b[1;33m.\u001b[0m\u001b[0mstartRunning\u001b[0m\u001b[1;33m(\u001b[0m\u001b[0minstallSignalHandlers\u001b[0m\u001b[1;33m=\u001b[0m\u001b[0minstallSignalHandlers\u001b[0m\u001b[1;33m)\u001b[0m\u001b[1;33m\u001b[0m\u001b[1;33m\u001b[0m\u001b[0m\n\u001b[0m\u001b[0;32m   1423\u001b[0m         \u001b[0mself\u001b[0m\u001b[1;33m.\u001b[0m\u001b[0mmainLoop\u001b[0m\u001b[1;33m(\u001b[0m\u001b[1;33m)\u001b[0m\u001b[1;33m\u001b[0m\u001b[1;33m\u001b[0m\u001b[0m\n\u001b[0;32m   1424\u001b[0m \u001b[1;33m\u001b[0m\u001b[0m\n",
      "\u001b[1;32m~\\anaconda3\\envs\\learn-env\\lib\\site-packages\\twisted\\internet\\base.py\u001b[0m in \u001b[0;36mstartRunning\u001b[1;34m(self, installSignalHandlers)\u001b[0m\n\u001b[0;32m   1402\u001b[0m         \"\"\"\n\u001b[0;32m   1403\u001b[0m         \u001b[0mself\u001b[0m\u001b[1;33m.\u001b[0m\u001b[0m_installSignalHandlers\u001b[0m \u001b[1;33m=\u001b[0m \u001b[0minstallSignalHandlers\u001b[0m\u001b[1;33m\u001b[0m\u001b[1;33m\u001b[0m\u001b[0m\n\u001b[1;32m-> 1404\u001b[1;33m         \u001b[0mReactorBase\u001b[0m\u001b[1;33m.\u001b[0m\u001b[0mstartRunning\u001b[0m\u001b[1;33m(\u001b[0m\u001b[0mcast\u001b[0m\u001b[1;33m(\u001b[0m\u001b[0mReactorBase\u001b[0m\u001b[1;33m,\u001b[0m \u001b[0mself\u001b[0m\u001b[1;33m)\u001b[0m\u001b[1;33m)\u001b[0m\u001b[1;33m\u001b[0m\u001b[1;33m\u001b[0m\u001b[0m\n\u001b[0m\u001b[0;32m   1405\u001b[0m \u001b[1;33m\u001b[0m\u001b[0m\n\u001b[0;32m   1406\u001b[0m     \u001b[1;32mdef\u001b[0m \u001b[0m_reallyStartRunning\u001b[0m\u001b[1;33m(\u001b[0m\u001b[0mself\u001b[0m\u001b[1;33m)\u001b[0m \u001b[1;33m->\u001b[0m \u001b[1;32mNone\u001b[0m\u001b[1;33m:\u001b[0m\u001b[1;33m\u001b[0m\u001b[1;33m\u001b[0m\u001b[0m\n",
      "\u001b[1;32m~\\anaconda3\\envs\\learn-env\\lib\\site-packages\\twisted\\internet\\base.py\u001b[0m in \u001b[0;36mstartRunning\u001b[1;34m(self)\u001b[0m\n\u001b[0;32m    839\u001b[0m         \"\"\"\n\u001b[0;32m    840\u001b[0m         \u001b[1;32mif\u001b[0m \u001b[0mself\u001b[0m\u001b[1;33m.\u001b[0m\u001b[0m_started\u001b[0m\u001b[1;33m:\u001b[0m\u001b[1;33m\u001b[0m\u001b[1;33m\u001b[0m\u001b[0m\n\u001b[1;32m--> 841\u001b[1;33m             \u001b[1;32mraise\u001b[0m \u001b[0merror\u001b[0m\u001b[1;33m.\u001b[0m\u001b[0mReactorAlreadyRunning\u001b[0m\u001b[1;33m(\u001b[0m\u001b[1;33m)\u001b[0m\u001b[1;33m\u001b[0m\u001b[1;33m\u001b[0m\u001b[0m\n\u001b[0m\u001b[0;32m    842\u001b[0m         \u001b[1;32mif\u001b[0m \u001b[0mself\u001b[0m\u001b[1;33m.\u001b[0m\u001b[0m_startedBefore\u001b[0m\u001b[1;33m:\u001b[0m\u001b[1;33m\u001b[0m\u001b[1;33m\u001b[0m\u001b[0m\n\u001b[0;32m    843\u001b[0m             \u001b[1;32mraise\u001b[0m \u001b[0merror\u001b[0m\u001b[1;33m.\u001b[0m\u001b[0mReactorNotRestartable\u001b[0m\u001b[1;33m(\u001b[0m\u001b[1;33m)\u001b[0m\u001b[1;33m\u001b[0m\u001b[1;33m\u001b[0m\u001b[0m\n",
      "\u001b[1;31mReactorAlreadyRunning\u001b[0m: "
     ]
    }
   ],
   "source": [
    "process = CrawlerProcess(settings={\n",
    "      \"FEEDS\": {\"BookSpider.csv\": {'format': 'csv'}, #set output in settings\n",
    "      },\n",
    "    })\n",
    "process.crawl(BookSpider)\n",
    "process.start()   "
   ]
  },
  {
   "cell_type": "markdown",
   "metadata": {},
   "source": [
    "## test "
   ]
  },
  {
   "cell_type": "code",
   "execution_count": null,
   "metadata": {},
   "outputs": [],
   "source": []
  },
  {
   "cell_type": "code",
   "execution_count": null,
   "metadata": {},
   "outputs": [],
   "source": []
  }
 ],
 "metadata": {
  "kernelspec": {
   "display_name": "Python 3",
   "language": "python",
   "name": "python3"
  },
  "language_info": {
   "codemirror_mode": {
    "name": "ipython",
    "version": 3
   },
   "file_extension": ".py",
   "mimetype": "text/x-python",
   "name": "python",
   "nbconvert_exporter": "python",
   "pygments_lexer": "ipython3",
   "version": "3.8.5"
  },
  "toc": {
   "base_numbering": 1,
   "nav_menu": {},
   "number_sections": true,
   "sideBar": true,
   "skip_h1_title": false,
   "title_cell": "Table of Contents",
   "title_sidebar": "Contents",
   "toc_cell": false,
   "toc_position": {},
   "toc_section_display": true,
   "toc_window_display": true
  },
  "varInspector": {
   "cols": {
    "lenName": 16,
    "lenType": 16,
    "lenVar": 40
   },
   "kernels_config": {
    "python": {
     "delete_cmd_postfix": "",
     "delete_cmd_prefix": "del ",
     "library": "var_list.py",
     "varRefreshCmd": "print(var_dic_list())"
    },
    "r": {
     "delete_cmd_postfix": ") ",
     "delete_cmd_prefix": "rm(",
     "library": "var_list.r",
     "varRefreshCmd": "cat(var_dic_list()) "
    }
   },
   "types_to_exclude": [
    "module",
    "function",
    "builtin_function_or_method",
    "instance",
    "_Feature"
   ],
   "window_display": false
  }
 },
 "nbformat": 4,
 "nbformat_minor": 4
}
